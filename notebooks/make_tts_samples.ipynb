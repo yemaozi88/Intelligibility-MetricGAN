{
 "cells": [
  {
   "cell_type": "code",
   "execution_count": 1,
   "metadata": {},
   "outputs": [],
   "source": [
    "import os\n",
    "import sys\n",
    "import shutil\n",
    "import getpass\n",
    "import codecs\n",
    "\n",
    "repos_dir = r'/home/akikun/repos'\n",
    "sys.path.append(repos_dir)\n",
    "from sak import display as dp\n",
    "from rs_corpus import jp\n",
    "\n",
    "password = ''"
   ]
  },
  {
   "cell_type": "code",
   "execution_count": 2,
   "metadata": {},
   "outputs": [],
   "source": [
    "def tts_hikari(text_to_read, wav_path, voice='Hikari', vt_dir=r'/usr/vt'):\n",
    "    '''\n",
    "    perform TTS using vtspeech. \n",
    "    The output file will be made in {vt_dir}/result/vthenrik/{output_filename}.wav\n",
    "    \n",
    "    Args:\n",
    "        text_to_read (str): text to be read.\n",
    "        wav_path (path): the output file. \n",
    "        voice (str): which voice to be used. default: Hikari.\n",
    "        vt_dir (path): where vtspeech is installed. default: /usr/vt.\n",
    "        \n",
    "    '''\n",
    "    \n",
    "    # make tts sample.\n",
    "    wav_filename = os.path.basename(wav_path).replace('.wav', '')\n",
    "    command = 'sudo -S ' + os.path.join(vt_dir, 'rest', 'vthenrik') \\\n",
    "    + ' --lang ja' \\\n",
    "    + ' --voice ' + voice \\\n",
    "    + ' --text ' + text_to_read \\\n",
    "    + ' --afile ' + wav_filename\n",
    "\n",
    "    #password = getpass.getpass()\n",
    "    #os.system('echo %s | %s' % (password, command))\n",
    "    !echo {password} | {command}\n",
    "    \n",
    "    # copy the wav file to the desired location.\n",
    "    wav_path_ = os.path.join(vt_dir, 'result', 'vthenrik', os.path.basename(wav_path))\n",
    "    shutil.move(wav_path_, wav_path)"
   ]
  },
  {
   "cell_type": "code",
   "execution_count": 3,
   "metadata": {},
   "outputs": [],
   "source": [
    "def loop_per_sentence(txt_path, trs_path):\n",
    "    ''' make a loop per sentences using str and the corresponding trs '''\n",
    "    \n",
    "    # read trans.\n",
    "    with open(trs_path) as f:\n",
    "        trss = f.read().split('\\n')\n",
    "        trss.remove('')\n",
    "    len(trss)\n",
    "\n",
    "    # read text.\n",
    "    txts = codecs.open(txt_path,\"rb\",'shift_jisx0213').read().split('\\r\\n')\n",
    "\n",
    "    # show script and transcription per sentence.\n",
    "    trs_ = '' # transcription.\n",
    "    txt_ = '' # script.\n",
    "    for i, trs in enumerate(trss):\n",
    "#         if i > 10:\n",
    "#             break\n",
    "\n",
    "        txt = txts[i]\n",
    "        trs_ += trs\n",
    "        txt_ += txt\n",
    "        if '。' in txt:\n",
    "            yield txt_, trs_\n",
    "            trs_ = ''\n",
    "            txt_ = ''"
   ]
  },
  {
   "cell_type": "code",
   "execution_count": 4,
   "metadata": {},
   "outputs": [],
   "source": [
    "def check_charactors(txt):\n",
    "    ng_charactors = ['(', ')', '<', '>', '&']\n",
    "    check = [1 for i in ng_charactors if i in txt]\n",
    "    is_ok = True\n",
    "    if len(check) > 0:\n",
    "        is_ok = False\n",
    "    return is_ok"
   ]
  },
  {
   "cell_type": "code",
   "execution_count": 5,
   "metadata": {},
   "outputs": [],
   "source": [
    "tts_dir  = r'/home/akikun/Projects/nele/hikari_tts'\n",
    "# tts_hikari(\n",
    "#     'まもなく３番線に、列車が参ります。危ないので、白線の内側までお下がりください。', \n",
    "#     os.path.join(wav_dir, 'hikari.wav'))\n",
    "# dp.disp_wav(wav_path)\n",
    "hikari_dir = r'/home/akikun/Corpus/Japanese/02_USS/Female/04_Hikari'"
   ]
  },
  {
   "cell_type": "code",
   "execution_count": 13,
   "metadata": {},
   "outputs": [
    {
     "name": "stdout",
     "output_type": "stream",
     "text": [
      "/bin/bash: -c: line 0: syntax error near unexpected token `('\r\n",
      "/bin/bash: -c: line 0: `echo guoyue21 | sudo -S /usr/vt/rest/vthenrik --lang ja --voice Hikari --text 東日本大震災の発生から2ヵ月、国境なき医師団(MSF)の臨床心理士チームは、引き続き、被災者への心理ケアを行っている。 --afile test'\r\n"
     ]
    },
    {
     "ename": "FileNotFoundError",
     "evalue": "[Errno 2] No such file or directory: '/usr/vt/result/vthenrik/test.wav'",
     "output_type": "error",
     "traceback": [
      "\u001b[0;31m---------------------------------------\u001b[0m",
      "\u001b[0;31mFileNotFoundError\u001b[0mTraceback (most recent call last)",
      "\u001b[0;32m~/miniconda3/envs/nele/lib/python3.8/shutil.py\u001b[0m in \u001b[0;36mmove\u001b[0;34m(src, dst, copy_function)\u001b[0m\n\u001b[1;32m    787\u001b[0m     \u001b[0;32mtry\u001b[0m\u001b[0;34m:\u001b[0m\u001b[0;34m\u001b[0m\u001b[0;34m\u001b[0m\u001b[0m\n\u001b[0;32m--> 788\u001b[0;31m         \u001b[0mos\u001b[0m\u001b[0;34m.\u001b[0m\u001b[0mrename\u001b[0m\u001b[0;34m(\u001b[0m\u001b[0msrc\u001b[0m\u001b[0;34m,\u001b[0m \u001b[0mreal_dst\u001b[0m\u001b[0;34m)\u001b[0m\u001b[0;34m\u001b[0m\u001b[0;34m\u001b[0m\u001b[0m\n\u001b[0m\u001b[1;32m    789\u001b[0m     \u001b[0;32mexcept\u001b[0m \u001b[0mOSError\u001b[0m\u001b[0;34m:\u001b[0m\u001b[0;34m\u001b[0m\u001b[0;34m\u001b[0m\u001b[0m\n",
      "\u001b[0;31mFileNotFoundError\u001b[0m: [Errno 2] No such file or directory: '/usr/vt/result/vthenrik/test.wav' -> '/home/akikun/Desktop/tts_hikari/test.wav'",
      "\nDuring handling of the above exception, another exception occurred:\n",
      "\u001b[0;31mFileNotFoundError\u001b[0mTraceback (most recent call last)",
      "\u001b[0;32m<ipython-input-13-8374013041a6>\u001b[0m in \u001b[0;36m<module>\u001b[0;34m\u001b[0m\n\u001b[0;32m----> 1\u001b[0;31m tts_hikari(\n\u001b[0m\u001b[1;32m      2\u001b[0m     \u001b[0;34m'東日本大震災の発生から2ヵ月、国境なき医師団(MSF)の臨床心理士チームは、引き続き、被災者への心理ケアを行っている。'\u001b[0m\u001b[0;34m,\u001b[0m\u001b[0;34m\u001b[0m\u001b[0;34m\u001b[0m\u001b[0m\n\u001b[1;32m      3\u001b[0m     r'/home/akikun/Desktop/tts_hikari/test.wav')\n",
      "\u001b[0;32m<ipython-input-2-5208da0e7654>\u001b[0m in \u001b[0;36mtts_hikari\u001b[0;34m(text_to_read, wav_path, voice, vt_dir)\u001b[0m\n\u001b[1;32m     26\u001b[0m     \u001b[0;31m# copy the wav file to the desired location.\u001b[0m\u001b[0;34m\u001b[0m\u001b[0;34m\u001b[0m\u001b[0;34m\u001b[0m\u001b[0m\n\u001b[1;32m     27\u001b[0m     \u001b[0mwav_path_\u001b[0m \u001b[0;34m=\u001b[0m \u001b[0mos\u001b[0m\u001b[0;34m.\u001b[0m\u001b[0mpath\u001b[0m\u001b[0;34m.\u001b[0m\u001b[0mjoin\u001b[0m\u001b[0;34m(\u001b[0m\u001b[0mvt_dir\u001b[0m\u001b[0;34m,\u001b[0m \u001b[0;34m'result'\u001b[0m\u001b[0;34m,\u001b[0m \u001b[0;34m'vthenrik'\u001b[0m\u001b[0;34m,\u001b[0m \u001b[0mos\u001b[0m\u001b[0;34m.\u001b[0m\u001b[0mpath\u001b[0m\u001b[0;34m.\u001b[0m\u001b[0mbasename\u001b[0m\u001b[0;34m(\u001b[0m\u001b[0mwav_path\u001b[0m\u001b[0;34m)\u001b[0m\u001b[0;34m)\u001b[0m\u001b[0;34m\u001b[0m\u001b[0;34m\u001b[0m\u001b[0m\n\u001b[0;32m---> 28\u001b[0;31m     \u001b[0mshutil\u001b[0m\u001b[0;34m.\u001b[0m\u001b[0mmove\u001b[0m\u001b[0;34m(\u001b[0m\u001b[0mwav_path_\u001b[0m\u001b[0;34m,\u001b[0m \u001b[0mwav_path\u001b[0m\u001b[0;34m)\u001b[0m\u001b[0;34m\u001b[0m\u001b[0;34m\u001b[0m\u001b[0m\n\u001b[0m",
      "\u001b[0;32m~/miniconda3/envs/nele/lib/python3.8/shutil.py\u001b[0m in \u001b[0;36mmove\u001b[0;34m(src, dst, copy_function)\u001b[0m\n\u001b[1;32m    800\u001b[0m             \u001b[0mrmtree\u001b[0m\u001b[0;34m(\u001b[0m\u001b[0msrc\u001b[0m\u001b[0;34m)\u001b[0m\u001b[0;34m\u001b[0m\u001b[0;34m\u001b[0m\u001b[0m\n\u001b[1;32m    801\u001b[0m         \u001b[0;32melse\u001b[0m\u001b[0;34m:\u001b[0m\u001b[0;34m\u001b[0m\u001b[0;34m\u001b[0m\u001b[0m\n\u001b[0;32m--> 802\u001b[0;31m             \u001b[0mcopy_function\u001b[0m\u001b[0;34m(\u001b[0m\u001b[0msrc\u001b[0m\u001b[0;34m,\u001b[0m \u001b[0mreal_dst\u001b[0m\u001b[0;34m)\u001b[0m\u001b[0;34m\u001b[0m\u001b[0;34m\u001b[0m\u001b[0m\n\u001b[0m\u001b[1;32m    803\u001b[0m             \u001b[0mos\u001b[0m\u001b[0;34m.\u001b[0m\u001b[0munlink\u001b[0m\u001b[0;34m(\u001b[0m\u001b[0msrc\u001b[0m\u001b[0;34m)\u001b[0m\u001b[0;34m\u001b[0m\u001b[0;34m\u001b[0m\u001b[0m\n\u001b[1;32m    804\u001b[0m     \u001b[0;32mreturn\u001b[0m \u001b[0mreal_dst\u001b[0m\u001b[0;34m\u001b[0m\u001b[0;34m\u001b[0m\u001b[0m\n",
      "\u001b[0;32m~/miniconda3/envs/nele/lib/python3.8/shutil.py\u001b[0m in \u001b[0;36mcopy2\u001b[0;34m(src, dst, follow_symlinks)\u001b[0m\n\u001b[1;32m    430\u001b[0m     \u001b[0;32mif\u001b[0m \u001b[0mos\u001b[0m\u001b[0;34m.\u001b[0m\u001b[0mpath\u001b[0m\u001b[0;34m.\u001b[0m\u001b[0misdir\u001b[0m\u001b[0;34m(\u001b[0m\u001b[0mdst\u001b[0m\u001b[0;34m)\u001b[0m\u001b[0;34m:\u001b[0m\u001b[0;34m\u001b[0m\u001b[0;34m\u001b[0m\u001b[0m\n\u001b[1;32m    431\u001b[0m         \u001b[0mdst\u001b[0m \u001b[0;34m=\u001b[0m \u001b[0mos\u001b[0m\u001b[0;34m.\u001b[0m\u001b[0mpath\u001b[0m\u001b[0;34m.\u001b[0m\u001b[0mjoin\u001b[0m\u001b[0;34m(\u001b[0m\u001b[0mdst\u001b[0m\u001b[0;34m,\u001b[0m \u001b[0mos\u001b[0m\u001b[0;34m.\u001b[0m\u001b[0mpath\u001b[0m\u001b[0;34m.\u001b[0m\u001b[0mbasename\u001b[0m\u001b[0;34m(\u001b[0m\u001b[0msrc\u001b[0m\u001b[0;34m)\u001b[0m\u001b[0;34m)\u001b[0m\u001b[0;34m\u001b[0m\u001b[0;34m\u001b[0m\u001b[0m\n\u001b[0;32m--> 432\u001b[0;31m     \u001b[0mcopyfile\u001b[0m\u001b[0;34m(\u001b[0m\u001b[0msrc\u001b[0m\u001b[0;34m,\u001b[0m \u001b[0mdst\u001b[0m\u001b[0;34m,\u001b[0m \u001b[0mfollow_symlinks\u001b[0m\u001b[0;34m=\u001b[0m\u001b[0mfollow_symlinks\u001b[0m\u001b[0;34m)\u001b[0m\u001b[0;34m\u001b[0m\u001b[0;34m\u001b[0m\u001b[0m\n\u001b[0m\u001b[1;32m    433\u001b[0m     \u001b[0mcopystat\u001b[0m\u001b[0;34m(\u001b[0m\u001b[0msrc\u001b[0m\u001b[0;34m,\u001b[0m \u001b[0mdst\u001b[0m\u001b[0;34m,\u001b[0m \u001b[0mfollow_symlinks\u001b[0m\u001b[0;34m=\u001b[0m\u001b[0mfollow_symlinks\u001b[0m\u001b[0;34m)\u001b[0m\u001b[0;34m\u001b[0m\u001b[0;34m\u001b[0m\u001b[0m\n\u001b[1;32m    434\u001b[0m     \u001b[0;32mreturn\u001b[0m \u001b[0mdst\u001b[0m\u001b[0;34m\u001b[0m\u001b[0;34m\u001b[0m\u001b[0m\n",
      "\u001b[0;32m~/miniconda3/envs/nele/lib/python3.8/shutil.py\u001b[0m in \u001b[0;36mcopyfile\u001b[0;34m(src, dst, follow_symlinks)\u001b[0m\n\u001b[1;32m    259\u001b[0m         \u001b[0mos\u001b[0m\u001b[0;34m.\u001b[0m\u001b[0msymlink\u001b[0m\u001b[0;34m(\u001b[0m\u001b[0mos\u001b[0m\u001b[0;34m.\u001b[0m\u001b[0mreadlink\u001b[0m\u001b[0;34m(\u001b[0m\u001b[0msrc\u001b[0m\u001b[0;34m)\u001b[0m\u001b[0;34m,\u001b[0m \u001b[0mdst\u001b[0m\u001b[0;34m)\u001b[0m\u001b[0;34m\u001b[0m\u001b[0;34m\u001b[0m\u001b[0m\n\u001b[1;32m    260\u001b[0m     \u001b[0;32melse\u001b[0m\u001b[0;34m:\u001b[0m\u001b[0;34m\u001b[0m\u001b[0;34m\u001b[0m\u001b[0m\n\u001b[0;32m--> 261\u001b[0;31m         \u001b[0;32mwith\u001b[0m \u001b[0mopen\u001b[0m\u001b[0;34m(\u001b[0m\u001b[0msrc\u001b[0m\u001b[0;34m,\u001b[0m \u001b[0;34m'rb'\u001b[0m\u001b[0;34m)\u001b[0m \u001b[0;32mas\u001b[0m \u001b[0mfsrc\u001b[0m\u001b[0;34m,\u001b[0m \u001b[0mopen\u001b[0m\u001b[0;34m(\u001b[0m\u001b[0mdst\u001b[0m\u001b[0;34m,\u001b[0m \u001b[0;34m'wb'\u001b[0m\u001b[0;34m)\u001b[0m \u001b[0;32mas\u001b[0m \u001b[0mfdst\u001b[0m\u001b[0;34m:\u001b[0m\u001b[0;34m\u001b[0m\u001b[0;34m\u001b[0m\u001b[0m\n\u001b[0m\u001b[1;32m    262\u001b[0m             \u001b[0;31m# macOS\u001b[0m\u001b[0;34m\u001b[0m\u001b[0;34m\u001b[0m\u001b[0;34m\u001b[0m\u001b[0m\n\u001b[1;32m    263\u001b[0m             \u001b[0;32mif\u001b[0m \u001b[0m_HAS_FCOPYFILE\u001b[0m\u001b[0;34m:\u001b[0m\u001b[0;34m\u001b[0m\u001b[0;34m\u001b[0m\u001b[0m\n",
      "\u001b[0;31mFileNotFoundError\u001b[0m: [Errno 2] No such file or directory: '/usr/vt/result/vthenrik/test.wav'"
     ]
    }
   ],
   "source": [
    "tts_hikari(\n",
    "    '東日本大震災の発生から2ヵ月、国境なき医師団(MSF)の臨床心理士チームは、引き続き、被災者への心理ケアを行っている。', \n",
    "    r'/home/akikun/Desktop/tts_hikari/test.wav')"
   ]
  },
  {
   "cell_type": "code",
   "execution_count": 6,
   "metadata": {},
   "outputs": [],
   "source": [
    "# split into sentences.\n",
    "# for i, txt_ in enumerate(txts.split('。'), start=1):\n",
    "#     i_str = format(i, '03d')\n",
    "#     txt = txt_.replace('\\r', '').replace('\\n', '') + '。'\n",
    "#     if len(txt) > 1:\n",
    "#         print('{}:{}'.format(i_str, txt))"
   ]
  },
  {
   "cell_type": "code",
   "execution_count": 11,
   "metadata": {},
   "outputs": [
    {
     "name": "stdout",
     "output_type": "stream",
     "text": [
      "=== hikari-029_007 ===\n",
      "東日本大震災の発生から2ヵ月、国境なき医師団(MSF)の臨床心理士チームは、引き続き、被災者への心理ケアを行っている。\n",
      "=== hikari-029_047 ===\n",
      "放射性ヨウ素131は甲状腺に取り込まれ、様々な甲状腺障害、(甲状腺機能低下症、甲状腺ガン)を引き起こします。\n",
      "=== hikari-029_077 ===\n",
      "MOX燃料は、ウランとプルトニウムを酸化物の形で混合した燃料で、ウラン燃料同様、陶器のように焼き固め安定した状態(燃料ペレット)で使用されます。\n",
      "=== hikari-031_050 ===\n",
      "茨城県東海村にある動燃(動力炉・核燃料開発事業団)核廃棄物再処理施設内にて、重大な事故が発生した。\n",
      "=== hikari-033_086 ===\n",
      "菅直人前首相が今年春のOECD(経済協力開発機構)の総会や、G8サミット(主要国首脳会議)の場で表明した、再生可能エネルギーの普及目標作りが焦点だ。\n",
      "=== hikari-033_087 ===\n",
      "20カ国・地域(G20)ならびに主要8カ国(G8)議長国でもあるだけに、サルコジ大統領はギリシャなどへ手を差し伸べることに前向きだ。\n",
      "=== hikari-034_003 ===\n",
      "アメリカのオバマ大統領が初めて出席する東アジアサミットが行われる予定だが、アメリカが主導するTPP(環太平洋戦略的経済連携協定)に中国が警戒感を示していて、経済連携をめぐって、野田首相が難しい対応を迫られる局面も予想される。\n",
      "=== hikari-041_023 ===\n",
      "1980/5/25(月)からちょうど十年後、インドでラジブ・ガンジーが第七代首相になりました。\n",
      "=== hikari-041_025 ===\n",
      "2004/12/3(水)からちょうど十年前、プレイステーションが発売されました。\n",
      "=== hikari-041_026 ===\n",
      "彼女に初めて会ったのは1936年8月31日(土)です。\n",
      "=== hikari-041_027 ===\n",
      "私が30歳になるのは2021.5.21(月)です。\n",
      "=== hikari-041_028 ===\n",
      "平成16年1月10日(木)、日本数学検定協会が数学の日に制定しました。\n",
      "=== hikari-041_029 ===\n",
      "昭和52年2月11日(水)の約四ヶ月後、盧溝橋事件が起こりました。\n",
      "=== hikari-041_030 ===\n",
      "大正11年3月12日(火)の約五ヶ月半後、関東大震災が起こりました。\n",
      "=== hikari-041_031 ===\n",
      "明治12年4月13日(月)の三ヶ月後から、三重県でコレラが大流行しました。\n",
      "=== hikari-059_060 ===\n",
      "AR(拡張現実)を利用した、冷蔵庫の設置シミュレーション用のアプリ。\n",
      "=== hikari-088_009 ===\n",
      "ブリティッシュ・エナジー<BGY>は24％安。\n",
      "=== hikari-089_048 ===\n",
      "欧州連合(EU)ではこのところ、オープンソースに関して、公共機関向け情報ポータルの拡張版。\n",
      "=== hikari-089_070 ===\n",
      "アングロアメリカン<AAL>の新CEOにシンシア・キャロル氏が就任へ。\n",
      "=== hikari-089_084 ===\n",
      "標準のフォントファミリーはビット・ストリーム・ベラから派生した「デジャブ」に変更され、デスクトップ全体のルック&フィールが向上した。\n",
      "=== hikari-090_066 ===\n",
      "米航空宇宙局(NASA)は、スペースシャトルを用いてハッブル宇宙望遠鏡の修理および、アップグレードに臨む最終ミッション「Servicing Mission4」を正式に発表した。\n",
      "=== hikari-091_006 ===\n",
      "UBSのウエブサイトに行くと、思わず体がこわばってしまうような、あちこちがむずがゆくなってしまうような、「You & Us」というイメージキャンペーンがある。\n",
      "=== hikari-092_047 ===\n",
      "発火するケースが報告されたソニー<^^6758>製、ノートパソコン向けリチウムイオン電池、中国のレノボ・グループ<^^0992>も52万6000個を自主回収。\n",
      "=== hikari-093_051 ===\n",
      "都城自衛隊、前田翼((3)第一工業大)。\n",
      "=== hikari-093_052 ===\n",
      "坂中伸作((2)尚志館高)。\n",
      "=== hikari-093_053 ===\n",
      "永吉正人((2)本坊酒造)。\n",
      "=== hikari-093_054 ===\n",
      "中野良平((2)第一工業大)。\n",
      "=== hikari-093_055 ===\n",
      "池田和也((1)京セラ国分)。\n",
      "=== hikari-093_056 ===\n",
      "福吉公輝((1）鳳凰高)。\n",
      "=== hikari-093_057 ===\n",
      "アズジ・アブデラアジズ((1）第一工業大)。\n",
      "=== hikari-093_058 ===\n",
      "吉田竜也((1）鹿児島大）。\n",
      "=== hikari-093_059 ===\n",
      "伊藤文彦((1）鹿屋体育大）。\n",
      "=== hikari-093_060 ===\n",
      "厚地翔太((1）第一工業大）。\n",
      "=== hikari-093_101 ===\n",
      "カトリック大分司教区、(教区長・宮原良治司教）と地元顕彰会の主催。\n"
     ]
    }
   ],
   "source": [
    "filelist = [file.replace('.txt', '') for file in os.listdir(os.path.join(hikari_dir, 'text')) if len(file) == 14]\n",
    "filelist.sort()\n",
    "for filename in filelist:\n",
    "    #print('\\n>>> processing {} ...'.format(filename))\n",
    "    #filename = 'hikari-001'\n",
    "    txt_path = os.path.join(hikari_dir, 'text', filename + '.txt')\n",
    "    trs_path = os.path.join(hikari_dir, 'trans', filename + '.trs')\n",
    "\n",
    "    i = 0\n",
    "    error_list = []\n",
    "    for txt, trs in loop_per_sentence(txt_path, trs_path):\n",
    "        i += 1\n",
    "        i_str = format(i, '03d')\n",
    "        basename = filename + '_' + i_str\n",
    "#         print('=== {} ==='.format(basename))\n",
    "#         print('{}'.format(txt))\n",
    "        \n",
    "        if not check_charactors(txt):\n",
    "            print('=== {} ==='.format(basename))\n",
    "            print('{}'.format(txt))\n",
    "        \n",
    "#         if check_charactors(txt):\n",
    "#             tts_hikari(txt, os.path.join(tts_dir, 'wavs', basename + '.wav'))\n",
    "#             with open(os.path.join(tts_dir, 'scripts', basename + '.txt'), 'w') as f:\n",
    "#                 f.write(txt)    \n",
    "#             with open(os.path.join(tts_dir, 'scripts', basename + '.trs'), 'w') as f:\n",
    "#                 f.write(trs)\n",
    "#         else:\n",
    "#             error_list.append(basename)\n",
    "#             print('+++++ cannot generate audio +++++')"
   ]
  },
  {
   "cell_type": "code",
   "execution_count": 8,
   "metadata": {},
   "outputs": [
    {
     "data": {
      "text/plain": [
       "[]"
      ]
     },
     "execution_count": 8,
     "metadata": {},
     "output_type": "execute_result"
    }
   ],
   "source": [
    "error_list"
   ]
  }
 ],
 "metadata": {
  "kernelspec": {
   "display_name": "Python 3",
   "language": "python",
   "name": "python3"
  },
  "language_info": {
   "codemirror_mode": {
    "name": "ipython",
    "version": 3
   },
   "file_extension": ".py",
   "mimetype": "text/x-python",
   "name": "python",
   "nbconvert_exporter": "python",
   "pygments_lexer": "ipython3",
   "version": "3.7.0"
  }
 },
 "nbformat": 4,
 "nbformat_minor": 4
}
