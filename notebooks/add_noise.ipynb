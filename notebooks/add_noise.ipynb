{
 "cells": [
  {
   "cell_type": "code",
   "execution_count": 1,
   "id": "atmospheric-replica",
   "metadata": {},
   "outputs": [],
   "source": [
    "import argparse\n",
    "import array\n",
    "import math\n",
    "import numpy as np\n",
    "import random\n",
    "import wave\n",
    "import os\n",
    "import sys\n",
    "import shutil\n",
    "import glob\n",
    "from pathlib import Path\n",
    "\n",
    "import librosa\n",
    "import matplotlib.pyplot as plt\n",
    "\n",
    "repos_dir = r'/home/takkan/repos'\n",
    "sys.path.append(repos_dir)\n",
    "\n",
    "imgan_dir = os.path.join(repos_dir, 'Intelligibility-MetricGAN')\n",
    "sys.path.append(imgan_dir)\n"
   ]
  },
  {
   "cell_type": "code",
   "execution_count": 2,
   "id": "smooth-intersection",
   "metadata": {},
   "outputs": [],
   "source": [
    "# Signal-to-Noise\n",
    "snr = 0.5\n",
    "\n",
    "# open iMetricGAN sample files.\n",
    "wav_dir = os.path.join(imgan_dir, 'JR_database')\n",
    "clean_file = os.path.join(wav_dir, 'Train/Clean/Train_001.wav')\n",
    "noise_file = os.path.join(wav_dir, 'Train/Noise/Train_001.wav')\n",
    "clean_wav = wave.open(clean_file, \"r\")\n",
    "noise_wav = wave.open(noise_file, \"r\")\n"
   ]
  },
  {
   "cell_type": "code",
   "execution_count": 3,
   "id": "handy-period",
   "metadata": {},
   "outputs": [],
   "source": [
    "def cal_amp(wf):\n",
    "    buffer = wf.readframes(wf.getnframes())\n",
    "    amptitude = (np.frombuffer(buffer, dtype=\"int16\")).astype(np.float64)\n",
    "    return amptitude\n",
    "\n",
    "def cal_rms(amp):\n",
    "    return np.sqrt(np.mean(np.square(amp), axis=-1))\n",
    "\n",
    "def cal_adjusted_rms(clean_rms, snr):\n",
    "    a = float(snr) / 20\n",
    "    noise_rms = clean_rms / (10**a) \n",
    "    return noise_rms\n"
   ]
  },
  {
   "cell_type": "code",
   "execution_count": 4,
   "id": "owned-reconstruction",
   "metadata": {},
   "outputs": [
    {
     "name": "stdout",
     "output_type": "stream",
     "text": [
      "[0. 0. 0. ... 0. 0. 0.] [-1.000e+00  3.000e+00 -4.000e+00 ... -3.428e+03 -1.854e+03 -2.371e+03]\n"
     ]
    }
   ],
   "source": [
    "# Calculation of amp\n",
    "clean_amp = cal_amp(clean_wav)\n",
    "noise_amp = cal_amp(noise_wav)\n",
    "\n",
    "print(clean_amp, noise_amp)"
   ]
  },
  {
   "cell_type": "code",
   "execution_count": 5,
   "id": "placed-boston",
   "metadata": {},
   "outputs": [
    {
     "name": "stdout",
     "output_type": "stream",
     "text": [
      "3887.8149914806863 3280.3736778128223\n"
     ]
    }
   ],
   "source": [
    "# Calculation of RMS\n",
    "start = random.randint(0, len(noise_amp)-len(clean_amp))\n",
    "clean_rms = cal_rms(clean_amp)\n",
    "split_noise_amp = noise_amp[start: start + len(clean_amp)]\n",
    "noise_rms = cal_rms(split_noise_amp)\n",
    "\n",
    "print(clean_rms, noise_rms)"
   ]
  },
  {
   "cell_type": "code",
   "execution_count": 7,
   "id": "spoken-beijing",
   "metadata": {},
   "outputs": [],
   "source": [
    "# Synthesize waveforms of any size\n",
    "adjusted_noise_rms = cal_adjusted_rms(clean_rms, snr)\n",
    "        \n",
    "adjusted_noise_amp = split_noise_amp * (adjusted_noise_rms / noise_rms) \n",
    "mixed_amp = (clean_amp + adjusted_noise_amp)\n",
    "\n",
    "# Normalized so as not to crack the sound\n",
    "if (mixed_amp.max(axis=0) > 32767): \n",
    "    mixed_amp = mixed_amp * (32767/mixed_amp.max(axis=0))\n",
    "    clean_amp = clean_amp * (32767/mixed_amp.max(axis=0))\n",
    "    adjusted_noise_amp = adjusted_noise_amp * (32767/mixed_amp.max(axis=0))\n"
   ]
  },
  {
   "cell_type": "code",
   "execution_count": 8,
   "id": "pretty-azerbaijan",
   "metadata": {},
   "outputs": [],
   "source": [
    "# Save the waveform as a wav file\n",
    "noisy_wave = wave.Wave_write('output_noisy_file.wav')\n",
    "noisy_wave.setparams(clean_wav.getparams())\n",
    "noisy_wave.writeframes(array.array('h', mixed_amp.astype(np.int16)).tostring() )\n",
    "noisy_wave.close()\n",
    "\n",
    "clean_wave = wave.Wave_write('output_clean_file.wav')\n",
    "clean_wave.setparams(clean_wav.getparams())\n",
    "clean_wave.writeframes(array.array('h', clean_amp.astype(np.int16)).tostring() )\n",
    "clean_wave.close()\n",
    "\n",
    "noise_wave = wave.Wave_write('output_noise_file.wav')\n",
    "noise_wave.setparams(clean_wav.getparams())\n",
    "noise_wave.writeframes(array.array('h', adjusted_noise_amp.astype(np.int16)).tostring() )\n",
    "noise_wave.close()"
   ]
  },
  {
   "cell_type": "code",
   "execution_count": null,
   "id": "variable-drill",
   "metadata": {},
   "outputs": [],
   "source": []
  }
 ],
 "metadata": {
  "kernelspec": {
   "display_name": "iMetricGAN",
   "language": "python",
   "name": "imetricgan"
  },
  "language_info": {
   "codemirror_mode": {
    "name": "ipython",
    "version": 3
   },
   "file_extension": ".py",
   "mimetype": "text/x-python",
   "name": "python",
   "nbconvert_exporter": "python",
   "pygments_lexer": "ipython3",
   "version": "3.7.9"
  }
 },
 "nbformat": 4,
 "nbformat_minor": 5
}
