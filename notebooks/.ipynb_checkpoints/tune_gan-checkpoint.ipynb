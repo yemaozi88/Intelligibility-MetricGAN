{
 "cells": [
  {
   "cell_type": "code",
   "execution_count": 1,
   "metadata": {},
   "outputs": [],
   "source": [
    "import os\n",
    "import sys\n",
    "import glob\n",
    "import librosa\n",
    "import numpy as np\n",
    "from scipy.optimize import curve_fit\n",
    "from pystoi import stoi\n",
    "from pysiib import SIIB\n",
    "\n",
    "#repos_dir = r'/home/akikun/repos'\n",
    "repos_dir = r'/home/takkan/repos'\n",
    "sys.path.append(repos_dir)\n",
    "sys.path.append(os.path.join(repos_dir, 'Intelligibility-MetricGAN'))\n",
    "import audio_util as au\n",
    "from sak import signal_processing as sp\n"
   ]
  },
  {
   "cell_type": "code",
   "execution_count": 2,
   "metadata": {},
   "outputs": [],
   "source": [
    "# directories.\n",
    "train_dir = r'/home/common/db/audio_corpora/nele/imgan/train_small'\n",
    "train_clean_dir = os.path.join(train_dir, 'clean')\n",
    "train_noise_dir = os.path.join(train_dir, 'noise-10')\n",
    "train_enhanced_dir = os.path.join(train_dir, 'enhanced')"
   ]
  },
  {
   "cell_type": "code",
   "execution_count": null,
   "metadata": {},
   "outputs": [],
   "source": [
    "# get the distribution of ESTOI. \n",
    "au.read_SIIB(clean_root, noise_root, enhanced_file)\n",
    "au.read_STOI(clean_root, noise_root, enhanced_file)"
   ]
  },
  {
   "cell_type": "code",
   "execution_count": 3,
   "metadata": {},
   "outputs": [],
   "source": [
    "def read_STOI(clean_file, noise_file, enhanced_file):\n",
    "    clean_wav    = sp.load_wav(clean_file)\n",
    "    noise_wav    = sp.load_wav(noise_file)     \n",
    "    enhanced_wav = sp.load_wav(enhanced_file)\n",
    "    minL = min(len(clean_wav),len(enhanced_wav))\n",
    "    clean_wav = clean_wav[:minL]\n",
    "    noise_wav = noise_wav[:minL]\n",
    "    enhanced_wav = enhanced_wav[:minL]\n",
    "    stoi_score = stoi(clean_wav, enhanced_wav + noise_wav, 44100, extended=True) * 2    \n",
    "    return stoi_score\n",
    "\n",
    "def read_SIIB(clean_file, noise_file, enhanced_file):\n",
    "    clean_wav    = sp.load_wav(clean_file)     \n",
    "    noise_wav    = sp.load_wav(noise_file)     \n",
    "    enhanced_wav = sp.load_wav(enhanced_file)\n",
    "    minL = min(len(clean_wav),len(enhanced_wav))\n",
    "    clean_wav = clean_wav[:minL]\n",
    "    noise_wav = noise_wav[:minL]\n",
    "    enhanced_wav = enhanced_wav[:minL]\n",
    "    \n",
    "    siib_score = au.SIIB_Wrapper_ger(clean_wav, enhanced_wav + noise_wav, 44100)  \n",
    "    return siib_score\n"
   ]
  },
  {
   "cell_type": "code",
   "execution_count": 4,
   "metadata": {},
   "outputs": [
    {
     "name": "stdout",
     "output_type": "stream",
     "text": [
      "STOI = 0.6211875853155376, SIIB = 0.48087139782815014\n",
      "STOI = 0.745190110934999, SIIB = 0.6318138329278323\n",
      "STOI = 0.7410843049988147, SIIB = 0.7226860473098216\n"
     ]
    }
   ],
   "source": [
    "train_clean_paths = glob.glob(os.path.join(train_clean_dir, '*.wav'))\n",
    "train_clean_paths.sort()\n",
    "stoi_list = []\n",
    "siib_list = []\n",
    "\n",
    "for train_clean_path in train_clean_paths[0:3]:\n",
    "    train_noise_path = os.path.join(train_noise_dir, os.path.basename(train_clean_path))\n",
    "    train_enhanced_path = os.path.join(train_enhanced_dir, os.path.basename(train_clean_path))\n",
    "    \n",
    "    stoi_score = read_STOI(train_clean_path, train_noise_path, train_enhanced_path)\n",
    "    siib_score = read_SIIB(train_clean_path, train_noise_path, train_enhanced_path)\n",
    "    print('STOI = ' + str(stoi_score) + ', SIIB = ' + str(siib_score))\n",
    "    \n",
    "    stoi_list.append(stoi_score)\n",
    "    siib_list.append(siib_score)\n"
   ]
  },
  {
   "cell_type": "code",
   "execution_count": 5,
   "metadata": {},
   "outputs": [
    {
     "name": "stdout",
     "output_type": "stream",
     "text": [
      "average STOI = 0.7024873337497839, max SIIB = 0.745190110934999, min SIIB = 0.6211875853155376\n",
      "aberage SIIB = 0.6117904260219347, max STOI = 0.7226860473098216, min STOI = 0.48087139782815014\n"
     ]
    }
   ],
   "source": [
    "print('average STOI = ' + str(sum(stoi_list) / len(stoi_list)) + \n",
    "      ', max SIIB = ' + str(max(stoi_list)) + \n",
    "      ', min SIIB = ' + str(min(stoi_list)))\n",
    "print('aberage SIIB = ' + str(sum(siib_list) / len(siib_list)) + \n",
    "      ', max STOI = ' + str(max(siib_list)) + \n",
    "      ', min STOI = ' + str(min(siib_list)))\n"
   ]
  },
  {
   "cell_type": "code",
   "execution_count": 6,
   "metadata": {},
   "outputs": [],
   "source": [
    "def mapping_func_jr(x, a, b):\n",
    "    y = 1/(1+np.exp(-a*(x-b)))\n",
    "    #y = 1/(1+np.exp(-0.09*(x-25)))\n",
    "    return y\n",
    "\n",
    "def SIIB_Wrapper_jr(x,y,fs):\n",
    "    minL = min(len(x),len(y))\n",
    "    x = x[:minL]\n",
    "    y = y[:minL]\n",
    "    M = len(x)/fs\n",
    "    if(M<20):\n",
    "        x = np.hstack([x]*round(50/M))\n",
    "        y = np.hstack([y]*round(50/M))\n",
    "    #return mapping_func_jr(SIIB(x,y,fs,gauss=True))\n",
    "    return SIIB(x,y,fs,gauss=True)\n",
    "\n",
    "def read_SIIB_jr(clean_file, noise_file, enhanced_file):\n",
    "    clean_wav    = sp.load_wav(clean_file)     \n",
    "    noise_wav    = sp.load_wav(noise_file)     \n",
    "    enhanced_wav = sp.load_wav(enhanced_file)\n",
    "    minL = min(len(clean_wav),len(enhanced_wav))\n",
    "    clean_wav = clean_wav[:minL]\n",
    "    noise_wav = noise_wav[:minL]\n",
    "    enhanced_wav = enhanced_wav[:minL]\n",
    "    \n",
    "    siib_score = SIIB_Wrapper_jr(clean_wav, enhanced_wav + noise_wav, 44100)  \n",
    "    return siib_score\n"
   ]
  },
  {
   "cell_type": "code",
   "execution_count": 7,
   "metadata": {},
   "outputs": [],
   "source": [
    "siib_y_list = []\n",
    "siib_x_list = []\n",
    "for train_clean_path in train_clean_paths[:]:\n",
    "    train_noise_path = os.path.join(train_noise_dir, os.path.basename(train_clean_path))\n",
    "    train_enhanced_path = os.path.join(train_enhanced_dir, os.path.basename(train_clean_path))\n",
    "    \n",
    "    stoi_score = read_STOI(train_clean_path, train_noise_path, train_enhanced_path)\n",
    "    siib_x = read_SIIB_jr(train_clean_path, train_noise_path, train_enhanced_path)\n",
    "    \n",
    "    siib_y_list.append(stoi_score)\n",
    "    siib_x_list.append(siib_x)"
   ]
  },
  {
   "cell_type": "code",
   "execution_count": 8,
   "metadata": {},
   "outputs": [
    {
     "name": "stdout",
     "output_type": "stream",
     "text": [
      "[ 0.03003547 11.83864168]\n"
     ]
    }
   ],
   "source": [
    "siib_y_np = np.array(siib_y_list)\n",
    "siib_x_np = np.array(siib_x_list)\n",
    "popt, pcov = curve_fit(mapping_func_jr, siib_x_np, siib_y_np)\n",
    "print(popt)"
   ]
  },
  {
   "cell_type": "code",
   "execution_count": null,
   "metadata": {},
   "outputs": [],
   "source": []
  }
 ],
 "metadata": {
  "kernelspec": {
   "display_name": "iMetricGAN",
   "language": "python",
   "name": "imetricgan"
  },
  "language_info": {
   "codemirror_mode": {
    "name": "ipython",
    "version": 3
   },
   "file_extension": ".py",
   "mimetype": "text/x-python",
   "name": "python",
   "nbconvert_exporter": "python",
   "pygments_lexer": "ipython3",
   "version": "3.7.9"
  }
 },
 "nbformat": 4,
 "nbformat_minor": 4
}
