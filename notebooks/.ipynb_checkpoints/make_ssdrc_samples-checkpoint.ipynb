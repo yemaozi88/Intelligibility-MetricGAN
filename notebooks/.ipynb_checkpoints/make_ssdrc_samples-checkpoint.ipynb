{
 "cells": [
  {
   "cell_type": "code",
   "execution_count": 1,
   "id": "possible-cardiff",
   "metadata": {},
   "outputs": [],
   "source": [
    "import os\n",
    "import sys\n",
    "import glob\n",
    "\n",
    "repos_dir = r'/home/takkan/repos'\n",
    "sys.path.append(repos_dir)\n",
    "sys.path.append(os.path.join(repos_dir, 'ssdrc/pyssdrc'))\n",
    "import SSDRC"
   ]
  },
  {
   "cell_type": "code",
   "execution_count": 8,
   "id": "diverse-thong",
   "metadata": {},
   "outputs": [],
   "source": [
    "corpus_dir = r'/home/common/db/audio_corpora/nele'\n",
    "speaker = 'ashley'\n",
    "\n",
    "corpus_normalized_dir = os.path.join(corpus_dir, 'tts_output', speaker, 'wavs_normalized')\n",
    "corpus_ssdrc_dir = os.path.join(corpus_dir, 'tts_output', speaker, 'wavs_ssdrc')\n",
    "if not os.path.exists(corpus_ssdrc_dir):\n",
    "    os.makedirs(corpus_ssdrc_dir)"
   ]
  },
  {
   "cell_type": "code",
   "execution_count": 9,
   "id": "afraid-renewal",
   "metadata": {},
   "outputs": [
    {
     "name": "stdout",
     "output_type": "stream",
     "text": [
      "1132\n"
     ]
    }
   ],
   "source": [
    "# Get normalized audio file paths\n",
    "normalized_wav_paths = glob.glob(os.path.join(corpus_normalized_dir, '*.wav'))\n",
    "print(len(normalized_wav_paths))"
   ]
  },
  {
   "cell_type": "code",
   "execution_count": 10,
   "id": "liked-flexibility",
   "metadata": {},
   "outputs": [
    {
     "name": "stdout",
     "output_type": "stream",
     "text": [
      "1132/1132"
     ]
    }
   ],
   "source": [
    "# SSDRC\n",
    "for i, normalized_wav_path in enumerate(normalized_wav_paths, start=1):\n",
    "    print('\\r' + '{}/{}'.format(i, len(normalized_wav_paths)), end=\"\")\n",
    "    wav_basename = os.path.basename(normalized_wav_path)\n",
    "    ssdrc_wav_path = os.path.join(corpus_ssdrc_dir, wav_basename)\n",
    "    SSDRC.SSDRC_file(normalized_wav_path, ssdrc_wav_path)"
   ]
  },
  {
   "cell_type": "code",
   "execution_count": null,
   "id": "frequent-telephone",
   "metadata": {},
   "outputs": [],
   "source": []
  }
 ],
 "metadata": {
  "kernelspec": {
   "display_name": "iMetricGAN",
   "language": "python",
   "name": "imetricgan"
  },
  "language_info": {
   "codemirror_mode": {
    "name": "ipython",
    "version": 3
   },
   "file_extension": ".py",
   "mimetype": "text/x-python",
   "name": "python",
   "nbconvert_exporter": "python",
   "pygments_lexer": "ipython3",
   "version": "3.7.9"
  }
 },
 "nbformat": 4,
 "nbformat_minor": 5
}
