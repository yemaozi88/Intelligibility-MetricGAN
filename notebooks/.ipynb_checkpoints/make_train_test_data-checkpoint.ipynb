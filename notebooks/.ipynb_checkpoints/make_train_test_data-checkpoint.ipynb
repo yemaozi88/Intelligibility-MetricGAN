{
 "cells": [
  {
   "cell_type": "code",
   "execution_count": 7,
   "metadata": {},
   "outputs": [],
   "source": [
    "import os\n",
    "import sys\n",
    "import shutil\n",
    "import glob\n",
    "#from pathlib import Path\n",
    "\n",
    "import numpy as np\n",
    "import librosa\n",
    "import matplotlib.pyplot as plt\n",
    "from sklearn.model_selection import train_test_split\n",
    "\n",
    "repos_dir = r'/home/akikun/repos'\n",
    "sys.path.append(repos_dir)\n",
    "from sak import display as dp\n",
    "from sak import signal_processing as sp\n",
    "\n",
    "imgan_dir = os.path.join(repos_dir, 'Intelligibility-MetricGAN')\n",
    "sys.path.append(imgan_dir)\n",
    "#import audio_util as au"
   ]
  },
  {
   "cell_type": "code",
   "execution_count": 8,
   "metadata": {},
   "outputs": [],
   "source": [
    "corpus_dir = r'/home/common/db/audio_corpora/nele'\n",
    "n_train_test = 479"
   ]
  },
  {
   "cell_type": "code",
   "execution_count": 10,
   "metadata": {},
   "outputs": [
    {
     "ename": "SyntaxError",
     "evalue": "unexpected EOF while parsing (<ipython-input-10-8064fd858471>, line 7)",
     "output_type": "error",
     "traceback": [
      "\u001b[0;36m  File \u001b[0;32m\"<ipython-input-10-8064fd858471>\"\u001b[0;36m, line \u001b[0;32m7\u001b[0m\n\u001b[0;31m    #    wav_path.replace('wavs', 'wavs_normalized'))\u001b[0m\n\u001b[0m                                                     ^\u001b[0m\n\u001b[0;31mSyntaxError\u001b[0m\u001b[0;31m:\u001b[0m unexpected EOF while parsing\n"
     ]
    }
   ],
   "source": [
    "# normalize the input data into RMS of 0.02.\n",
    "wav_paths = glob.glob(os.path.join(corpus_dir, 'hikari_tts', 'wavs', '*.wav'))\n",
    "for i, wav_path in enumerate(wav_paths, start=1):\n",
    "    print('\\r' + '{}/{}'.format(i, len(wav_paths), end=\"\")\n",
    "    #sp.normalize_rms_file(\n",
    "    #    wav_path, \n",
    "    #    wav_path.replace('wavs', 'wavs_normalized'))"
   ]
  },
  {
   "cell_type": "code",
   "execution_count": 5,
   "metadata": {},
   "outputs": [
    {
     "data": {
      "text/plain": [
       "6000"
      ]
     },
     "execution_count": 5,
     "metadata": {},
     "output_type": "execute_result"
    }
   ],
   "source": [
    "\n",
    "\n",
    "clean_wavs = glob.glob(os.path.join(corpus_dir, 'hikari_tts', 'wavs', '*.wav'))\n",
    "\n",
    "#clean_train, clean_test = train_test_split(clean_wavs, test_size=n_train_test, random_state=1)\n",
    "#len(clean_train)\n",
    "\n",
    "#noise_wavs = glob.glob(os.path.join(corpus_dir, 'train_noise_hoya'))"
   ]
  }
 ],
 "metadata": {
  "kernelspec": {
   "display_name": "Python 3",
   "language": "python",
   "name": "python3"
  },
  "language_info": {
   "codemirror_mode": {
    "name": "ipython",
    "version": 3
   },
   "file_extension": ".py",
   "mimetype": "text/x-python",
   "name": "python",
   "nbconvert_exporter": "python",
   "pygments_lexer": "ipython3",
   "version": "3.7.0"
  }
 },
 "nbformat": 4,
 "nbformat_minor": 4
}
