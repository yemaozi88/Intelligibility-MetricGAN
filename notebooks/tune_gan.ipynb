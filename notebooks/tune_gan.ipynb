{
 "cells": [
  {
   "cell_type": "code",
   "execution_count": 1,
   "metadata": {},
   "outputs": [],
   "source": [
    "import os\n",
    "import sys\n",
    "import glob\n",
    "\n",
    "import librosa\n",
    "import numpy as np\n",
    "from scipy.optimize import curve_fit\n",
    "from pystoi import stoi\n",
    "from pysiib import SIIB\n",
    "import matplotlib.pyplot as plt\n",
    "\n",
    "repos_dir = r'/home/akikun/repos'\n",
    "#repos_dir = r'/home/takkan/repos'\n",
    "sys.path.append(repos_dir)\n",
    "sys.path.append(os.path.join(repos_dir, 'Intelligibility-MetricGAN'))\n",
    "import audio_util as au\n",
    "from sak import signal_processing as sp\n",
    "from sak import nele"
   ]
  },
  {
   "cell_type": "code",
   "execution_count": 2,
   "metadata": {},
   "outputs": [],
   "source": [
    "# directories.\n",
    "train_dir = r'/home/common/db/audio_corpora/nele/imgan/all/train'\n",
    "train_clean_dir = os.path.join(train_dir, 'clean')\n",
    "train_noise_dir = os.path.join(train_dir, 'noise')\n",
    "train_enhanced_dir = os.path.join(train_dir, 'enhanced')"
   ]
  },
  {
   "cell_type": "markdown",
   "metadata": {},
   "source": [
    "## check the original implementation in audio_util.py"
   ]
  },
  {
   "cell_type": "code",
   "execution_count": 3,
   "metadata": {},
   "outputs": [],
   "source": [
    "def read_STOI(clean_file, noise_file, enhanced_file):\n",
    "    clean_wav    = sp.load_wav(clean_file)\n",
    "    noise_wav    = sp.load_wav(noise_file)     \n",
    "    enhanced_wav = sp.load_wav(enhanced_file)\n",
    "    \n",
    "    minL = min(len(clean_wav),len(enhanced_wav))\n",
    "    clean_wav = clean_wav[:minL]\n",
    "    noise_wav = noise_wav[:minL]\n",
    "    enhanced_wav = enhanced_wav[:minL]\n",
    "    \n",
    "    stoi_score = stoi(clean_wav, enhanced_wav + noise_wav, 44100, extended=True) * 2    \n",
    "    return stoi_score\n",
    "\n",
    "\n",
    "def read_SIIB(clean_file, noise_file, enhanced_file):\n",
    "    clean_wav    = sp.load_wav(clean_file)     \n",
    "    noise_wav    = sp.load_wav(noise_file)     \n",
    "    enhanced_wav = sp.load_wav(enhanced_file)\n",
    "    \n",
    "    minL = min(len(clean_wav),len(enhanced_wav))\n",
    "    clean_wav = clean_wav[:minL]\n",
    "    noise_wav = noise_wav[:minL]\n",
    "    enhanced_wav = enhanced_wav[:minL]\n",
    "    \n",
    "    siib_score = au.SIIB_Wrapper_ger(clean_wav, enhanced_wav + noise_wav, 44100)  \n",
    "    return siib_score"
   ]
  },
  {
   "cell_type": "code",
   "execution_count": null,
   "metadata": {},
   "outputs": [],
   "source": [
    "train_clean_paths = glob.glob(os.path.join(train_clean_dir, '*.wav'))\n",
    "train_clean_paths.sort()\n",
    "stoi_list = []\n",
    "siib_list = []\n",
    "\n",
    "for train_clean_path in train_clean_paths[0:3]:\n",
    "    train_noise_path = os.path.join(train_noise_dir, os.path.basename(train_clean_path))\n",
    "    train_enhanced_path = os.path.join(train_enhanced_dir, os.path.basename(train_clean_path))\n",
    "    \n",
    "    stoi_score = read_STOI(train_clean_path, train_noise_path, train_enhanced_path)\n",
    "    siib_score = read_SIIB(train_clean_path, train_noise_path, train_enhanced_path)\n",
    "    print('STOI = ' + str(stoi_score) + ', SIIB = ' + str(siib_score))\n",
    "    \n",
    "    stoi_list.append(stoi_score)\n",
    "    siib_list.append(siib_score)"
   ]
  },
  {
   "cell_type": "code",
   "execution_count": null,
   "metadata": {},
   "outputs": [],
   "source": [
    "print('average STOI = ' + str(sum(stoi_list) / len(stoi_list)) + \n",
    "      ', max SIIB = ' + str(max(stoi_list)) + \n",
    "      ', min SIIB = ' + str(min(stoi_list)))\n",
    "print('aberage SIIB = ' + str(sum(siib_list) / len(siib_list)) + \n",
    "      ', max STOI = ' + str(max(siib_list)) + \n",
    "      ', min STOI = ' + str(min(siib_list)))"
   ]
  },
  {
   "cell_type": "markdown",
   "metadata": {},
   "source": [
    "## implement functions for JR projects."
   ]
  },
  {
   "cell_type": "code",
   "execution_count": 3,
   "metadata": {},
   "outputs": [],
   "source": [
    "def logistic_function(x, a, b):\n",
    "    y = 1/(1+np.exp(-a*(x-b)))\n",
    "    return y\n",
    "\n",
    "\n",
    "def mapping_func_jr(x):\n",
    "    y = 1/(1+np.exp(-14.83*(x+0.66)))\n",
    "\n",
    "\n",
    "def SIIB_Wrapper_jr(x,y,fs):\n",
    "    minL = min(len(x),len(y))\n",
    "    x = x[:minL]\n",
    "    y = y[:minL]\n",
    "    M = len(x)/fs\n",
    "    if(M<20):\n",
    "        x = np.hstack([x]*round(50/M))\n",
    "        y = np.hstack([y]*round(50/M))\n",
    "    #return mapping_func_jr(SIIB(x,y,fs,gauss=True))\n",
    "    return SIIB(x,y,fs,gauss=True)\n",
    "\n",
    "    \n",
    "def read_SIIB_jr(clean_file, noise_file, enhanced_file, sampling_frequency=44100):\n",
    "    clean_wav    = sp.load_wav(clean_file)     \n",
    "    noise_wav    = sp.load_wav(noise_file)     \n",
    "    enhanced_wav = sp.load_wav(enhanced_file)\n",
    "    \n",
    "    minL = min(len(clean_wav),len(enhanced_wav))\n",
    "    clean_wav = clean_wav[:minL]\n",
    "    noise_wav = noise_wav[:minL]\n",
    "    enhanced_wav = enhanced_wav[:minL]\n",
    "    \n",
    "    siib_score = SIIB_Wrapper_jr(clean_wav, enhanced_wav + noise_wav, sampling_frequency)  \n",
    "    return siib_score"
   ]
  },
  {
   "cell_type": "code",
   "execution_count": 3,
   "metadata": {},
   "outputs": [],
   "source": [
    "def calc_siib_file(wav_clean_path, wav_noise_path, wav_enhanced_path, sampling_frequency=44100):\n",
    "    wav_clean    = sp.load_wav(wav_clean_path)     \n",
    "    wav_noise    = sp.load_wav(wav_noise_path)     \n",
    "    wav_enhanced = sp.load_wav(wav_enhanced_path)\n",
    "            \n",
    "    minL = min(len(wav_clean),len(wav_enhanced))\n",
    "    wav_clean    = wav_clean[:minL]\n",
    "    wav_noise    = wav_noise[:minL]\n",
    "    wav_enhanced = wav_enhanced[:minL]\n",
    "    \n",
    "    wav_mixed = wav_noise + wav_enhanced\n",
    "    M = len(wav_clean)/sampling_frequency\n",
    "    if(M < 20):\n",
    "        wav_clean = np.hstack([wav_clean]*round(50/M))\n",
    "        wav_mixed = np.hstack([wav_mixed]*round(50/M))\n",
    "    \n",
    "    return SIIB(wav_clean, wav_mixed, sampling_frequency, gauss=True) \n",
    "\n",
    "\n",
    "def mapping_func_jr(x):\n",
    "    #y = 1/(1+np.exp(-0.066*(x-54)))\n",
    "    y = 1/(1+np.exp(-0.00924*(x-170)))\n",
    "    return y\n",
    "\n",
    "\n",
    "def calc_normalized_siib_file(wav_clean_path, wav_noise_path, wav_enhanced_path, sampling_frequency=44100):\n",
    "    siib_score = calc_siib_file(\n",
    "        wav_clean_path, wav_noise_path, wav_enhanced_path, sampling_frequency=sampling_frequency)\n",
    "    #print(siib_score)\n",
    "    return siib_score, mapping_func_jr(siib_score)"
   ]
  },
  {
   "cell_type": "code",
   "execution_count": 32,
   "metadata": {},
   "outputs": [
    {
     "name": "stdout",
     "output_type": "stream",
     "text": [
      "42.77034424165197\n",
      "42.77034424165197\n",
      "0.32275113033180075\n"
     ]
    }
   ],
   "source": [
    "# wav_clean_path = wav_clean_paths[10]\n",
    "# wav_noise_path = wav_clean_path.replace(train_clean_dir, train_noise_dir)\n",
    "# wav_enhanced_path = wav_clean_path.replace(train_clean_dir, train_enhanced_dir)\n",
    "# x = calc_siib_file(wav_clean_path, wav_noise_path, wav_enhanced_path, sampling_frequency=44100)\n",
    "# _, y = calc_normalized_siib_file(wav_clean_path, wav_noise_path, wav_enhanced_path, sampling_frequency=44100)\n",
    "# print(x)\n",
    "# print(y)"
   ]
  },
  {
   "cell_type": "code",
   "execution_count": null,
   "metadata": {},
   "outputs": [
    {
     "name": "stdout",
     "output_type": "stream",
     "text": [
      "2956/5000"
     ]
    },
    {
     "name": "stderr",
     "output_type": "stream",
     "text": [
      "/home/akikun/miniconda3/envs/nele/lib/python3.7/site-packages/pysiib.py:104: UserWarning: stimuli must have at least 20 seconds of speech\n",
      "  warnings.warn('stimuli must have at least 20 seconds of speech')\n"
     ]
    },
    {
     "name": "stdout",
     "output_type": "stream",
     "text": [
      "3334/5000"
     ]
    }
   ],
   "source": [
    "# check the distribution of SIIB. \n",
    "wav_clean_paths = glob.glob(os.path.join(train_clean_dir, '*.wav'))\n",
    "wav_clean_paths.sort()\n",
    "\n",
    "siib_y_list = []\n",
    "siib_x_list = []\n",
    "for i, wav_clean_path in enumerate(wav_clean_paths[:], start=1):\n",
    "    wav_basename = os.path.basename(wav_clean_path)\n",
    "    wav_noise_path = os.path.join(train_noise_dir, wav_basename)\n",
    "    wav_enhanced_path = os.path.join(train_enhanced_dir, wav_basename)\n",
    "\n",
    "    print('\\r' + '{}/{}'.format(i, len(wav_clean_paths)), end=\"\")\n",
    "    #stoi_score = read_STOI(train_clean_path, train_noise_path, train_enhanced_path)\n",
    "    siib_x = calc_siib_file(wav_clean_path, wav_noise_path, wav_enhanced_path)\n",
    "    _, siib_y = calc_normalized_siib_file(wav_clean_path, wav_noise_path, wav_enhanced_path)\n",
    "    \n",
    "    #siib_y_list.append(stoi_score)\n",
    "    siib_x_list.append(siib_x)\n",
    "    siib_y_list.append(siib_y)"
   ]
  },
  {
   "cell_type": "code",
   "execution_count": 14,
   "metadata": {},
   "outputs": [
    {
     "data": {
      "text/plain": [
       "[<matplotlib.lines.Line2D at 0x7fe10682d470>]"
      ]
     },
     "execution_count": 14,
     "metadata": {},
     "output_type": "execute_result"
    },
    {
     "data": {
      "image/png": "[encoded data removed]",
      "text/plain": [
       "<Figure size 432x288 with 1 Axes>"
      ]
     },
     "metadata": {
      "needs_background": "light"
     },
     "output_type": "display_data"
    }
   ],
   "source": [
    "plt.plot(siib_x_list, siib_y_list, '.')"
   ]
  },
  {
   "cell_type": "code",
   "execution_count": 9,
   "metadata": {},
   "outputs": [
    {
     "data": {
      "text/plain": [
       "318.65569878865176"
      ]
     },
     "execution_count": 9,
     "metadata": {},
     "output_type": "execute_result"
    }
   ],
   "source": [
    "np.max(siib_x_list)"
   ]
  },
  {
   "cell_type": "markdown",
   "metadata": {},
   "source": [
    "## calculate the appropriate a and b"
   ]
  },
  {
   "cell_type": "code",
   "execution_count": 9,
   "metadata": {},
   "outputs": [
    {
     "name": "stdout",
     "output_type": "stream",
     "text": [
      "[1. 1.]\n"
     ]
    },
    {
     "name": "stderr",
     "output_type": "stream",
     "text": [
      "/home/akikun/miniconda3/envs/nele/lib/python3.7/site-packages/scipy/optimize/minpack.py:795: OptimizeWarning: Covariance of the parameters could not be estimated\n",
      "  category=OptimizeWarning)\n"
     ]
    }
   ],
   "source": [
    "siib_y_np = np.array(siib_y_list)\n",
    "siib_x_np = np.array(siib_x_list)\n",
    "popt, pcov = curve_fit(logistic_function, siib_x_np, siib_y_np)\n",
    "print(popt)"
   ]
  },
  {
   "cell_type": "code",
   "execution_count": 11,
   "metadata": {},
   "outputs": [
    {
     "name": "stdout",
     "output_type": "stream",
     "text": [
      "0.009241962407465937\n",
      "170.0\n"
     ]
    }
   ],
   "source": [
    "# why not just calculate a and b analytically?\n",
    "#np.max(siib_x_list) # 318.6\n",
    "#np.min(siib_x_list) # 27.4\n",
    "\n",
    "# so find a and b to map siib 75 --> 0.8, siib 33 --> 0.2.\n",
    "def calc_a_b(x_1, y_1, x_2, y_2):\n",
    "    a = np.log((1/y_1 - 1) / (1/y_2 - 1))/(x_2 - x_1)\n",
    "    b = x_1 + np.log(1/y_1 - 1)/a\n",
    "    return a, b\n",
    "\n",
    "a, b = calc_a_b(320, 0.8, 20, 0.2)\n",
    "print(a)\n",
    "print(b)"
   ]
  }
 ],
 "metadata": {
  "kernelspec": {
   "display_name": "Python 3",
   "language": "python",
   "name": "python3"
  },
  "language_info": {
   "codemirror_mode": {
    "name": "ipython",
    "version": 3
   },
   "file_extension": ".py",
   "mimetype": "text/x-python",
   "name": "python",
   "nbconvert_exporter": "python",
   "pygments_lexer": "ipython3",
   "version": "3.7.0"
  }
 },
 "nbformat": 4,
 "nbformat_minor": 4
}
