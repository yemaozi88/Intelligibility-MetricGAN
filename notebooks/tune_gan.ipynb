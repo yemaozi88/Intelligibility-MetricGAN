{
 "cells": [
  {
   "cell_type": "code",
   "execution_count": 1,
   "metadata": {},
   "outputs": [],
   "source": [
    "import os\n",
    "import sys\n",
    "import glob\n",
    "\n",
    "import librosa\n",
    "import numpy as np\n",
    "from scipy.optimize import curve_fit\n",
    "from pystoi import stoi\n",
    "from pysiib import SIIB\n",
    "import matplotlib.pyplot as plt\n",
    "\n",
    "repos_dir = r'/home/akikun/repos'\n",
    "#repos_dir = r'/home/takkan/repos'\n",
    "sys.path.append(repos_dir)\n",
    "sys.path.append(os.path.join(repos_dir, 'Intelligibility-MetricGAN'))\n",
    "import audio_util as au\n",
    "from sak import signal_processing as sp\n",
    "from sak import nele"
   ]
  },
  {
   "cell_type": "code",
   "execution_count": 5,
   "metadata": {},
   "outputs": [],
   "source": [
    "# directories.\n",
    "train_dir = r'/home/common/db/audio_corpora/nele/imgan/all/dataset_5000-500/train_small'\n",
    "train_clean_dir = os.path.join(train_dir, 'clean')\n",
    "train_noise_dir = os.path.join(train_dir, 'noise')\n",
    "train_enhanced_dir = os.path.join(train_dir, 'enhanced')"
   ]
  },
  {
   "cell_type": "markdown",
   "metadata": {},
   "source": [
    "## check the original implementation in audio_util.py"
   ]
  },
  {
   "cell_type": "code",
   "execution_count": 3,
   "metadata": {},
   "outputs": [],
   "source": [
    "def read_STOI(clean_file, noise_file, enhanced_file):\n",
    "    clean_wav    = sp.load_wav(clean_file)\n",
    "    noise_wav    = sp.load_wav(noise_file)     \n",
    "    enhanced_wav = sp.load_wav(enhanced_file)\n",
    "    \n",
    "    minL = min(len(clean_wav),len(enhanced_wav))\n",
    "    clean_wav = clean_wav[:minL]\n",
    "    noise_wav = noise_wav[:minL]\n",
    "    enhanced_wav = enhanced_wav[:minL]\n",
    "    \n",
    "    stoi_score = stoi(clean_wav, enhanced_wav + noise_wav, 44100, extended=True) * 2    \n",
    "    return stoi_score\n",
    "\n",
    "\n",
    "def read_SIIB(clean_file, noise_file, enhanced_file):\n",
    "    clean_wav    = sp.load_wav(clean_file)     \n",
    "    noise_wav    = sp.load_wav(noise_file)     \n",
    "    enhanced_wav = sp.load_wav(enhanced_file)\n",
    "    \n",
    "    minL = min(len(clean_wav),len(enhanced_wav))\n",
    "    clean_wav = clean_wav[:minL]\n",
    "    noise_wav = noise_wav[:minL]\n",
    "    enhanced_wav = enhanced_wav[:minL]\n",
    "    \n",
    "    siib_score = au.SIIB_Wrapper_ger(clean_wav, enhanced_wav + noise_wav, 44100)  \n",
    "    return siib_score"
   ]
  },
  {
   "cell_type": "code",
   "execution_count": 4,
   "metadata": {},
   "outputs": [
    {
     "name": "stdout",
     "output_type": "stream",
     "text": [
      "STOI = 0.7265122878895199, SIIB = 0.7979607519752139\n",
      "STOI = 1.076119996479631, SIIB = 0.9992215591172849\n",
      "STOI = 1.2377594475749287, SIIB = 0.9999852633470133\n"
     ]
    }
   ],
   "source": [
    "train_clean_paths = glob.glob(os.path.join(train_clean_dir, '*.wav'))\n",
    "train_clean_paths.sort()\n",
    "stoi_list = []\n",
    "siib_list = []\n",
    "\n",
    "for train_clean_path in train_clean_paths[0:3]:\n",
    "    train_noise_path = os.path.join(train_noise_dir, os.path.basename(train_clean_path))\n",
    "    train_enhanced_path = os.path.join(train_enhanced_dir, os.path.basename(train_clean_path))\n",
    "    \n",
    "    stoi_score = read_STOI(train_clean_path, train_noise_path, train_enhanced_path)\n",
    "    siib_score = read_SIIB(train_clean_path, train_noise_path, train_enhanced_path)\n",
    "    print('STOI = ' + str(stoi_score) + ', SIIB = ' + str(siib_score))\n",
    "    \n",
    "    stoi_list.append(stoi_score)\n",
    "    siib_list.append(siib_score)"
   ]
  },
  {
   "cell_type": "code",
   "execution_count": 5,
   "metadata": {},
   "outputs": [
    {
     "name": "stdout",
     "output_type": "stream",
     "text": [
      "average STOI = 1.0134639106480265, max SIIB = 1.2377594475749287, min SIIB = 0.7265122878895199\n",
      "aberage SIIB = 0.9323891914798373, max STOI = 0.9999852633470133, min STOI = 0.7979607519752139\n"
     ]
    }
   ],
   "source": [
    "print('average STOI = ' + str(sum(stoi_list) / len(stoi_list)) + \n",
    "      ', max SIIB = ' + str(max(stoi_list)) + \n",
    "      ', min SIIB = ' + str(min(stoi_list)))\n",
    "print('aberage SIIB = ' + str(sum(siib_list) / len(siib_list)) + \n",
    "      ', max STOI = ' + str(max(siib_list)) + \n",
    "      ', min STOI = ' + str(min(siib_list)))"
   ]
  },
  {
   "cell_type": "markdown",
   "metadata": {},
   "source": [
    "## implement functions for JR projects."
   ]
  },
  {
   "cell_type": "code",
   "execution_count": 6,
   "metadata": {},
   "outputs": [],
   "source": [
    "def logistic_function(x, a, b):\n",
    "    y = 1/(1+np.exp(-a*(x-b)))\n",
    "    return y\n",
    "\n",
    "    \n",
    "def mapping_func_jr(x):\n",
    "    # german\n",
    "    #y = 1/(1+np.exp(-14.83*(x+0.66)))\n",
    "    # first try.\n",
    "    #y = 1/(1+np.exp(-0.066*(x-54)))\n",
    "    y = 1/(1+np.exp(-0.00924*(x-170)))\n",
    "    return y\n",
    "\n",
    "\n",
    "def normalize_stoi(x):\n",
    "    y = 1/(1+np.exp(-4.62*(x-0.5)))\n",
    "    return y\n",
    "\n",
    "# def SIIB_Wrapper_jr(x,y,fs):\n",
    "#     minL = min(len(x),len(y))\n",
    "#     x = x[:minL]\n",
    "#     y = y[:minL]\n",
    "#     M = len(x)/fs\n",
    "#     if(M<20):\n",
    "#         x = np.hstack([x]*round(50/M))\n",
    "#         y = np.hstack([y]*round(50/M))\n",
    "#     #return mapping_func_jr(SIIB(x,y,fs,gauss=True))\n",
    "#     return SIIB(x,y,fs,gauss=True)\n",
    "def read_wavs(clean_file, noise_file, enhanced_file):\n",
    "    clean_wav    = sp.load_wav(clean_file)     \n",
    "    noise_wav    = sp.load_wav(noise_file)     \n",
    "    enhanced_wav = sp.load_wav(enhanced_file)\n",
    "    \n",
    "    minL = min(len(clean_wav), len(noise_wav), len(enhanced_wav))\n",
    "    clean_wav = clean_wav[:minL]\n",
    "    noise_wav = noise_wav[:minL]\n",
    "    enhanced_wav = enhanced_wav[:minL]\n",
    "\n",
    "    return clean_wav, noise_wav, enhanced_wav\n",
    "\n",
    "    \n",
    "def read_siib(clean_file, \n",
    "              noise_file, \n",
    "              enhanced_file, \n",
    "              remove_noise=False, \n",
    "              mapping=False, \n",
    "              sampling_frequency=44100):\n",
    "    wav_clean, wav_noise, wav_enhanced = read_wavs(clean_file, noise_file, enhanced_file) \n",
    "    \n",
    "    if remove_noise:\n",
    "        wav_mixed = wav_enhanced\n",
    "    else:\n",
    "        wav_mixed = wav_noise + wav_enhanced\n",
    "    \n",
    "    M = len(wav_clean)/sampling_frequency\n",
    "    if(M < 20):\n",
    "        wav_clean = np.hstack([wav_clean]*round(50/M))\n",
    "        wav_mixed = np.hstack([wav_mixed]*round(50/M))\n",
    "    siib_score = SIIB(wav_clean, wav_mixed, sampling_frequency, gauss=True)\n",
    "    \n",
    "    if mapping:\n",
    "        siib_score = mapping_func_jr(siib_score)          \n",
    "\n",
    "    return siib_score\n",
    "\n",
    "\n",
    "def read_stoi(clean_file, \n",
    "              noise_file, \n",
    "              enhanced_file, \n",
    "              remove_noise=False, \n",
    "              mapping=False, \n",
    "              sampling_frequency=44100):\n",
    "    wav_clean, wav_noise, wav_enhanced = read_wavs(clean_file, noise_file, enhanced_file)\n",
    "    if remove_noise:\n",
    "        stoi_score = stoi(wav_clean, wav_enhanced, sampling_frequency, extended=True)\n",
    "    else:\n",
    "        stoi_score = stoi(wav_clean, wav_enhanced + wav_noise, sampling_frequency, extended=True)\n",
    "\n",
    "    if mapping:\n",
    "        stoi_score = normalize_stoi(stoi_score)      \n",
    "        \n",
    "    return stoi_score    "
   ]
  },
  {
   "cell_type": "code",
   "execution_count": 7,
   "metadata": {},
   "outputs": [
    {
     "name": "stdout",
     "output_type": "stream",
     "text": [
      "SIIB: 144.5784568325015 (0.44)\n",
      "STOI: 0.6 (0.62)\n"
     ]
    }
   ],
   "source": [
    "wav_clean_paths = glob.glob(os.path.join(train_clean_dir, '*.wav'))\n",
    "wav_clean_path = wav_clean_paths[10]\n",
    "wav_noise_path = wav_clean_path.replace(train_clean_dir, train_noise_dir)\n",
    "wav_enhanced_path = wav_clean_path.replace(train_clean_dir, train_enhanced_dir)\n",
    "# x = calc_siib_file(wav_clean_path, wav_noise_path, wav_enhanced_path, sampling_frequency=44100)\n",
    "# _, y = calc_normalized_siib_file(wav_clean_path, wav_noise_path, wav_enhanced_path, sampling_frequency=44100)\n",
    "\n",
    "siib_score   = read_siib(wav_clean_path, wav_noise_path, wav_enhanced_path, mapping=False, sampling_frequency=44100)\n",
    "siib_score_n = read_siib(wav_clean_path, wav_noise_path, wav_enhanced_path, mapping=True, sampling_frequency=44100)\n",
    "stoi_score   = read_stoi(wav_clean_path, wav_noise_path, wav_enhanced_path, mapping=False, sampling_frequency=44100)\n",
    "stoi_score_n = read_stoi(wav_clean_path, wav_noise_path, wav_enhanced_path, mapping=True, sampling_frequency=44100)\n",
    "\n",
    "print('SIIB: {0} ({1:.2})'.format(siib_score, siib_score_n))\n",
    "print('STOI: {0:3.2} ({1:.2})'.format(stoi_score, stoi_score_n))"
   ]
  },
  {
   "cell_type": "code",
   "execution_count": 8,
   "metadata": {},
   "outputs": [
    {
     "name": "stdout",
     "output_type": "stream",
     "text": [
      "75/75"
     ]
    }
   ],
   "source": [
    "# check the distribution of SIIB. \n",
    "wav_clean_paths = glob.glob(os.path.join(train_clean_dir, '*.wav'))\n",
    "wav_clean_paths.sort()\n",
    "\n",
    "siib_y_list = []\n",
    "siib_x_list = []\n",
    "stoi_x_list = []\n",
    "stoi_y_list = []\n",
    "# no noise\n",
    "siib_x0_list = []\n",
    "siib_y0_list = []\n",
    "stoi_x0_list = []\n",
    "stoi_y0_list = []\n",
    "for i, wav_clean_path in enumerate(wav_clean_paths[:], start=1):\n",
    "    wav_basename = os.path.basename(wav_clean_path)\n",
    "    wav_noise_path = os.path.join(train_noise_dir, wav_basename)\n",
    "    wav_enhanced_path = os.path.join(train_enhanced_dir, wav_basename)\n",
    "\n",
    "    print('\\r' + '{}/{}'.format(i, len(wav_clean_paths)), end=\"\")\n",
    "    #stoi_score = read_STOI(train_clean_path, train_noise_path, train_enhanced_path)\n",
    "    #siib_x = calc_siib_file(wav_clean_path, wav_noise_path, wav_enhanced_path)\n",
    "    #_, siib_y = calc_normalized_siib_file(wav_clean_path, wav_noise_path, wav_enhanced_path)\n",
    "    siib_x = read_siib(wav_clean_path, wav_noise_path, wav_enhanced_path)\n",
    "    siib_y = read_siib(wav_clean_path, wav_noise_path, wav_enhanced_path, mapping=True)\n",
    "    stoi_x = read_stoi(wav_clean_path, wav_noise_path, wav_enhanced_path)\n",
    "    stoi_y = read_stoi(wav_clean_path, wav_noise_path, wav_enhanced_path, mapping=True)\n",
    "    \n",
    "    siib_x0 = read_siib(wav_clean_path, wav_noise_path, wav_enhanced_path, remove_noise=True)\n",
    "    siib_y0 = read_siib(wav_clean_path, wav_noise_path, wav_enhanced_path, remove_noise=True, mapping=True)\n",
    "    stoi_x0 = read_stoi(wav_clean_path, wav_noise_path, wav_enhanced_path, remove_noise=True)\n",
    "    stoi_y0 = read_stoi(wav_clean_path, wav_noise_path, wav_enhanced_path, remove_noise=True, mapping=True)\n",
    "    \n",
    "    siib_x_list.append(siib_x)\n",
    "    siib_y_list.append(siib_y)\n",
    "    stoi_x_list.append(stoi_x)\n",
    "    stoi_y_list.append(stoi_y)\n",
    "    \n",
    "    siib_x0_list.append(siib_x0)\n",
    "    siib_y0_list.append(siib_y0)\n",
    "    stoi_x0_list.append(stoi_x0)\n",
    "    stoi_y0_list.append(stoi_y0)"
   ]
  },
  {
   "cell_type": "code",
   "execution_count": 9,
   "metadata": {},
   "outputs": [],
   "source": [
    "# np.save('siib_x_list.npy', siib_x_list)\n",
    "# np.save('siib_y_list.npy', siib_y_list)"
   ]
  },
  {
   "cell_type": "code",
   "execution_count": 11,
   "metadata": {},
   "outputs": [
    {
     "data": {
      "text/plain": [
       "Text(0, 0.5, 'normalized SIIB')"
      ]
     },
     "execution_count": 11,
     "metadata": {},
     "output_type": "execute_result"
    },
    {
     "data": {
      "image/png": "[encoded data removed]",
      "text/plain": [
       "<Figure size 432x288 with 1 Axes>"
      ]
     },
     "metadata": {
      "needs_background": "light"
     },
     "output_type": "display_data"
    }
   ],
   "source": [
    "plt.plot(siib_x_list, siib_y_list, 'b.')\n",
    "#plt.plot(siib_y0_list, stoi_y0_list, 'r.')\n",
    "\n",
    "plt.xlabel('SIIB', fontsize=14)\n",
    "plt.ylabel('normalized SIIB', fontsize=14)"
   ]
  },
  {
   "cell_type": "code",
   "execution_count": 11,
   "metadata": {},
   "outputs": [
    {
     "data": {
      "text/plain": [
       "Text(0, 0.5, 'normalized SIIB')"
      ]
     },
     "execution_count": 11,
     "metadata": {},
     "output_type": "execute_result"
    },
    {
     "data": {
      "image/png": "[encoded data removed]",
      "text/plain": [
       "<Figure size 432x288 with 1 Axes>"
      ]
     },
     "metadata": {
      "needs_background": "light"
     },
     "output_type": "display_data"
    }
   ],
   "source": [
    "plt.plot(siib_x_list, siib_y_list, '.')\n",
    "plt.xlabel('SIIB', fontsize=14)\n",
    "plt.ylabel('normalized SIIB', fontsize=14)"
   ]
  },
  {
   "cell_type": "code",
   "execution_count": 12,
   "metadata": {},
   "outputs": [
    {
     "data": {
      "text/plain": [
       "27.397594931300212"
      ]
     },
     "execution_count": 12,
     "metadata": {},
     "output_type": "execute_result"
    }
   ],
   "source": [
    "np.min(siib_x_list)"
   ]
  },
  {
   "cell_type": "markdown",
   "metadata": {},
   "source": [
    "## calculate the appropriate a and b"
   ]
  },
  {
   "cell_type": "code",
   "execution_count": 13,
   "metadata": {},
   "outputs": [
    {
     "name": "stdout",
     "output_type": "stream",
     "text": [
      "[1. 1.]\n"
     ]
    },
    {
     "name": "stderr",
     "output_type": "stream",
     "text": [
      "/home/akikun/miniconda3/envs/nele/lib/python3.7/site-packages/scipy/optimize/minpack.py:795: OptimizeWarning: Covariance of the parameters could not be estimated\n",
      "  category=OptimizeWarning)\n"
     ]
    }
   ],
   "source": [
    "siib_y_np = np.array(siib_y_list)\n",
    "siib_x_np = np.array(siib_x_list)\n",
    "popt, pcov = curve_fit(logistic_function, siib_x_np, siib_y_np)\n",
    "print(popt)"
   ]
  },
  {
   "cell_type": "code",
   "execution_count": 18,
   "metadata": {},
   "outputs": [
    {
     "name": "stdout",
     "output_type": "stream",
     "text": [
      "4.620981203732968\n",
      "0.5\n"
     ]
    }
   ],
   "source": [
    "# why not just calculate a and b analytically?\n",
    "#np.max(siib_x_list) # 318.6\n",
    "#np.min(siib_x_list) # 27.4\n",
    "\n",
    "# so find a and b to map siib 75 --> 0.8, siib 33 --> 0.2.\n",
    "def calc_a_b(x_1, y_1, x_2, y_2):\n",
    "    a = np.log((1/y_1 - 1) / (1/y_2 - 1))/(x_2 - x_1)\n",
    "    b = x_1 + np.log(1/y_1 - 1)/a\n",
    "    return a, b\n",
    "\n",
    "a, b = calc_a_b(320, 0.8, 20, 0.2)\n",
    "a, b = calc_a_b(0.8, 0.8, 0.2, 0.2)\n",
    "\n",
    "print(a)\n",
    "print(b)"
   ]
  }
 ],
 "metadata": {
  "kernelspec": {
   "display_name": "Python 3",
   "language": "python",
   "name": "python3"
  },
  "language_info": {
   "codemirror_mode": {
    "name": "ipython",
    "version": 3
   },
   "file_extension": ".py",
   "mimetype": "text/x-python",
   "name": "python",
   "nbconvert_exporter": "python",
   "pygments_lexer": "ipython3",
   "version": "3.7.0"
  }
 },
 "nbformat": 4,
 "nbformat_minor": 4
}
