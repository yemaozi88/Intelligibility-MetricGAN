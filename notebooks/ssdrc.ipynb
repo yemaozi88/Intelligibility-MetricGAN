{
 "cells": [
  {
   "cell_type": "code",
   "execution_count": 1,
   "metadata": {},
   "outputs": [],
   "source": [
    "import os\n",
    "import sys\n",
    "import shutil\n",
    "import glob\n",
    "import importlib\n",
    "\n",
    "#import random\n",
    "\n",
    "import numpy as np\n",
    "import librosa\n",
    "import matplotlib.pyplot as plt\n",
    "#from sklearn.model_selection import train_test_split\n",
    "\n",
    "#import IPython\n",
    "\n",
    "repos_dir = r'/home/akikun/repos'\n",
    "sys.path.append(repos_dir)\n",
    "from sak import display as dp\n",
    "from sak import signal_processing as sp\n",
    "\n",
    "#imgan_dir = os.path.join(repos_dir, 'Intelligibility-MetricGAN')\n",
    "#sys.path.append(imgan_dir)\n",
    "#import default_settings as default\n",
    "#import audio_util as au"
   ]
  },
  {
   "cell_type": "code",
   "execution_count": 31,
   "metadata": {},
   "outputs": [],
   "source": [
    "hikari_tts_dir = r'/home/common/db/audio_corpora/nele/hikari_tts/wavs_normalized'\n",
    "wav_paths = glob.glob(os.path.join(hikari_tts_dir, '*.wav'))\n",
    "wav_paths.sort()\n",
    "wav_path = wav_paths[0]\n",
    "\n",
    "frame_length=1024 #--> 1024/44.1=22.6[ms]\n",
    "hop_length=512 #--> 512/44.1=11.6[ms]\n",
    "sampling_rate=44100"
   ]
  },
  {
   "cell_type": "code",
   "execution_count": 50,
   "metadata": {},
   "outputs": [
    {
     "data": {
      "text/plain": [
       "array([   0, 1680])"
      ]
     },
     "execution_count": 50,
     "metadata": {},
     "output_type": "execute_result"
    }
   ],
   "source": [
    "y_ = sp.load_wav(wav_path, sampling_rate=sampling_rate)\n",
    "y = y_[40000:70000]\n",
    "\n",
    "def zero_runs(a):\n",
    "    ''' \n",
    "    find consecutive 0s.\n",
    "    \n",
    "    Reference: https://stackoverflow.com/questions/24885092/finding-the-consecutive-zeros-in-a-numpy-array\n",
    "    '''\n",
    "    # Create an array that is 1 where a is 0, and pad each end with an extra 0.\n",
    "    iszero = np.concatenate(([0], np.equal(a, 0).view(np.int8), [0]))\n",
    "    absdiff = np.abs(np.diff(iszero))\n",
    "    # Runs start and end where absdiff is 1.\n",
    "    ranges = np.where(absdiff == 1)[0].reshape(-1, 2)\n",
    "    return ranges\n",
    "\n",
    "threshold = hop_length\n",
    "# start and end index of consecutive 0s. \n",
    "zr = zero_runs(y[:sampling_rate])\n",
    "# duration of consecutive 0s.\n",
    "zero_duration = zr[:, 1]-zr[:, 0]\n",
    "\n",
    "sils = zr[zero_duration > hop_length]\n",
    "if np.shape(sils)[0] == 1:\n",
    "    silB = sils[0]\n",
    "silB\n",
    "#plt.plot(y)\n",
    "#dp.disp_wav(y, sampling_rate=44100)"
   ]
  },
  {
   "cell_type": "code",
   "execution_count": 4,
   "metadata": {},
   "outputs": [
    {
     "data": {
      "text/plain": [
       "[0.00010018231,\n",
       " 0.0,\n",
       " 0.0,\n",
       " 6.9980088e-06,\n",
       " 4.542356e-05,\n",
       " 0.00017092701,\n",
       " 0.00054975564,\n",
       " 0.003237825,\n",
       " 0.0033770944,\n",
       " 0.004240599,\n",
       " 0.0048122387,\n",
       " 0.005996251,\n",
       " 0.0040550507,\n",
       " 0.018133754,\n",
       " 0.025623742,\n",
       " 0.028581882,\n",
       " 0.028908415,\n",
       " 0.028434847,\n",
       " 0.026252395,\n",
       " 0.030814204,\n",
       " 0.033064924,\n",
       " 0.03030593,\n",
       " 0.029360216,\n",
       " 0.035161994,\n",
       " 0.035461638,\n",
       " 0.038763966,\n",
       " 0.0378432,\n",
       " 0.03575897,\n",
       " 0.032470796,\n",
       " 0.02485709,\n",
       " 0.019674959,\n",
       " 0.024571504,\n",
       " 0.024443692,\n",
       " 0.02425025,\n",
       " 0.019853303,\n",
       " 0.027966553,\n",
       " 0.030415121,\n",
       " 0.029946106,\n",
       " 0.029107679,\n",
       " 0.024324385,\n",
       " 0.01898281,\n",
       " 0.0072820038,\n",
       " 0.00087889336,\n",
       " 7.239919e-05,\n",
       " 3.4087774e-05,\n",
       " 8.171797e-05,\n",
       " 0.00015479302,\n",
       " 0.003875989,\n",
       " 0.02305483,\n",
       " 0.023070717,\n",
       " 0.021983635,\n",
       " 0.02411096,\n",
       " 0.019307274,\n",
       " 0.013425892,\n",
       " 0.0036502313,\n",
       " 0.0004269821,\n",
       " 0.00019640339,\n",
       " 0.00017835358,\n",
       " 0.00015363882]"
      ]
     },
     "execution_count": 4,
     "metadata": {},
     "output_type": "execute_result"
    }
   ],
   "source": [
    "def shift_frame(y, frame_length=2048, hop_length=512):\n",
    "    t = np.arange(len(y))\n",
    "    hop_length_2 = round(hop_length/2)\n",
    "    frame_starts = t[::hop_length]\n",
    "    y2 = np.r_[y, y, y]\n",
    "    for frame_start in frame_starts:\n",
    "        yield y2[len(y) + frame_start - hop_length_2:len(y) + frame_start + hop_length_2]\n",
    "        \n",
    "rms_ = []\n",
    "for frame in shift_frame(y):\n",
    "    rms_.extend(sp.get_rms(frame)[1])\n",
    "rms_"
   ]
  },
  {
   "cell_type": "code",
   "execution_count": 29,
   "metadata": {
    "scrolled": true
   },
   "outputs": [
    {
     "data": {
      "text/plain": [
       "array([[ True],\n",
       "       [ True],\n",
       "       [ True],\n",
       "       [False],\n",
       "       [False],\n",
       "       [False],\n",
       "       [False],\n",
       "       [False],\n",
       "       [False],\n",
       "       [False],\n",
       "       [False],\n",
       "       [False],\n",
       "       [False],\n",
       "       [False],\n",
       "       [False],\n",
       "       [False],\n",
       "       [False],\n",
       "       [False],\n",
       "       [False],\n",
       "       [False],\n",
       "       [False],\n",
       "       [False],\n",
       "       [False],\n",
       "       [False],\n",
       "       [False],\n",
       "       [False],\n",
       "       [False],\n",
       "       [False],\n",
       "       [False],\n",
       "       [False],\n",
       "       [False],\n",
       "       [False],\n",
       "       [False],\n",
       "       [False],\n",
       "       [False],\n",
       "       [False],\n",
       "       [False],\n",
       "       [False],\n",
       "       [False],\n",
       "       [False],\n",
       "       [False],\n",
       "       [False],\n",
       "       [False],\n",
       "       [False],\n",
       "       [False],\n",
       "       [False],\n",
       "       [False],\n",
       "       [False],\n",
       "       [False],\n",
       "       [False],\n",
       "       [False],\n",
       "       [False],\n",
       "       [False],\n",
       "       [False],\n",
       "       [False],\n",
       "       [False],\n",
       "       [False],\n",
       "       [False],\n",
       "       [False]])"
      ]
     },
     "execution_count": 29,
     "metadata": {},
     "output_type": "execute_result"
    }
   ],
   "source": [
    "\n",
    "z = sp.get_zero_crossings(y, frame_length=frame_length, hop_length=hop_length, center=True)\n",
    "rms = sp.get_rms(y, frame_length=frame_length, hop_length=hop_length, center=True)\n",
    "#z = librosa.core.zero_crossings(y, threshold=1e-10, ref_magnitude=None, pad=True, zero_pos=True, axis=-1)\n",
    "len(z)\n",
    "z==0"
   ]
  },
  {
   "cell_type": "code",
   "execution_count": 27,
   "metadata": {},
   "outputs": [
    {
     "data": {
      "text/plain": [
       "[<matplotlib.lines.Line2D at 0x7f7271a7a9b0>]"
      ]
     },
     "execution_count": 27,
     "metadata": {},
     "output_type": "execute_result"
    },
    {
     "data": {
      "image/png": "[encoded data removed]",
      "text/plain": [
       "<Figure size 432x288 with 1 Axes>"
      ]
     },
     "metadata": {
      "needs_background": "light"
     },
     "output_type": "display_data"
    }
   ],
   "source": [
    "y_disp = y[::hop_length]\n",
    "plt.plot(y_disp)\n",
    "plt.plot(rms)\n",
    "plt.plot(z)"
   ]
  }
 ],
 "metadata": {
  "kernelspec": {
   "display_name": "Python 3",
   "language": "python",
   "name": "python3"
  },
  "language_info": {
   "codemirror_mode": {
    "name": "ipython",
    "version": 3
   },
   "file_extension": ".py",
   "mimetype": "text/x-python",
   "name": "python",
   "nbconvert_exporter": "python",
   "pygments_lexer": "ipython3",
   "version": "3.7.0"
  }
 },
 "nbformat": 4,
 "nbformat_minor": 4
}
