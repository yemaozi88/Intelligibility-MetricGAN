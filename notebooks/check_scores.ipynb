{
 "cells": [
  {
   "cell_type": "code",
   "execution_count": 18,
   "metadata": {},
   "outputs": [],
   "source": [
    "import os\n",
    "import sys\n",
    "import glob\n",
    "import tempfile\n",
    "from math import sqrt, pi, atan2, log, pow, cos, log, exp\n",
    "\n",
    "import librosa\n",
    "import numpy as np\n",
    "import pandas as pd\n",
    "import matplotlib.pyplot as plt\n",
    "import soundfile as sf\n",
    "from pesq import pesq\n",
    "from pysiib import SIIB\n",
    "\n",
    "repos_dir = r'/home/akikun/repos'\n",
    "sys.path.append(repos_dir)\n",
    "from sak import display as dp\n",
    "from sak import signal_processing as sp\n",
    "from sak import nele\n",
    "\n",
    "import IPython.display\n",
    "from IPython.display import display\n",
    "import librosa.display"
   ]
  },
  {
   "cell_type": "code",
   "execution_count": 2,
   "metadata": {},
   "outputs": [],
   "source": [
    "def load_wav(wav_path, sampling_frequency=16000):\n",
    "    x, sr = librosa.load(wav_path, sr=None)\n",
    "    if not sr == 16000:\n",
    "        temp_file = tempfile.NamedTemporaryFile(delete=False, suffix='.wav')\n",
    "        temp_file.close()\n",
    "        #wav_16k_path = wav_path.replace('.wav', '_16k.wav')\n",
    "        sp.change_sample_bit_rate(wav_path, temp_file.name, sample_rate=16000)\n",
    "        x = sp.load_wav(temp_file.name, sampling_rate=sampling_frequency)\n",
    "        os.remove(temp_file.name)\n",
    "    return x\n",
    "\n",
    "def pesq2mos(pesq):\n",
    "    \"\"\" Return MOS LQO value (within 1..4.5) on PESQ value (within -0.5..4.5).\n",
    "    Mapping function given from P.862.1 (11/2003) \"\"\"\n",
    "    return 0.999 + (4.999-0.999) / (1+exp(-1.4945*pesq+4.6607))\n",
    "\n",
    "\n",
    "main_dir = r'/home/akikun/Projects/nele/jr_demo/20210406'\n",
    "speaker = 'sayaka'\n",
    "noise_nr = 1\n",
    "snr = -10\n",
    "wav_clean_path  = os.path.join(main_dir,                        \n",
    "                'clean', speaker + '.wav')\n",
    "wav_imgan_path = os.path.join(main_dir, \n",
    "                'imgan2', 'rms002_44k', speaker + '.wav')\n",
    "wav_noise_path  = os.path.join(main_dir, \n",
    "                'add_noise', \n",
    "                'noise', \n",
    "                speaker + '_noise' + str(noise_nr) + '_snr' + str(snr) + '.wav')\n",
    "wav_mixed_clean_path  = os.path.join(main_dir, \n",
    "                'add_noise', \n",
    "                'mixed', \n",
    "                speaker + '_clean_noise' + str(noise_nr) + '_snr' + str(snr) + '.wav')\n",
    "wav_mixed_imgan_path  = os.path.join(main_dir, \n",
    "                'add_noise', \n",
    "                'mixed', \n",
    "                speaker + '_imgan2_noise' + str(noise_nr) + '_snr' + str(snr) + '.wav')\n",
    "sampling_frequency = 44100"
   ]
  },
  {
   "cell_type": "code",
   "execution_count": 3,
   "metadata": {},
   "outputs": [
    {
     "name": "stdout",
     "output_type": "stream",
     "text": [
      "clean: /home/akikun/Projects/nele/jr_demo/20210406/clean/sayaka.wav (exists:True)\n",
      "imgan: /home/akikun/Projects/nele/jr_demo/20210406/imgan2/rms002_44k/sayaka.wav (exists:True)\n",
      "noise: /home/akikun/Projects/nele/jr_demo/20210406/add_noise/noise/sayaka_noise1_snr-10.wav (exists:True)\n",
      "mixed_clean: /home/akikun/Projects/nele/jr_demo/20210406/add_noise/mixed/sayaka_clean_noise1_snr-10.wav (exists:True)\n",
      "mixed_imgan: /home/akikun/Projects/nele/jr_demo/20210406/add_noise/mixed/sayaka_imgan2_noise1_snr-10.wav (exists:True)\n"
     ]
    }
   ],
   "source": [
    "# print('clean: {} (exists:{})'.format(wav_clean_path, os.path.exists(wav_clean_path)))\n",
    "# print('imgan: {} (exists:{})'.format(wav_imgan_path, os.path.exists(wav_imgan_path)))\n",
    "# print('noise: {} (exists:{})'.format(wav_noise_path, os.path.exists(wav_noise_path)))\n",
    "# print('mixed_clean: {} (exists:{})'.format(wav_mixed_clean_path, os.path.exists(wav_mixed_clean_path)))\n",
    "# print('mixed_imgan: {} (exists:{})'.format(wav_mixed_imgan_path, os.path.exists(wav_mixed_imgan_path)))"
   ]
  },
  {
   "cell_type": "code",
   "execution_count": 4,
   "metadata": {},
   "outputs": [
    {
     "name": "stdout",
     "output_type": "stream",
     "text": [
      "/home/akikun/Projects/nele/jr_demo/20210406/clean/sayaka.wav (exists:True)\n",
      "length:(1336798,)\n",
      "sampling_rate:44100\n",
      "/home/akikun/Projects/nele/jr_demo/20210406/imgan2/rms002_44k/sayaka.wav (exists:True)\n",
      "length:(1336406,)\n",
      "sampling_rate:44100\n",
      "/home/akikun/Projects/nele/jr_demo/20210406/add_noise/noise/sayaka_noise1_snr-10.wav (exists:True)\n",
      "length:(1336798,)\n",
      "sampling_rate:44100\n",
      "/home/akikun/Projects/nele/jr_demo/20210406/add_noise/mixed/sayaka_clean_noise1_snr-10.wav (exists:True)\n",
      "length:(1336798,)\n",
      "sampling_rate:44100\n",
      "/home/akikun/Projects/nele/jr_demo/20210406/add_noise/mixed/sayaka_imgan2_noise1_snr-10.wav (exists:True)\n",
      "length:(1336406,)\n",
      "sampling_rate:44100\n"
     ]
    }
   ],
   "source": [
    "# # check the wav length.\n",
    "# for wav_path in [wav_clean_path, wav_imgan_path, wav_noise_path, wav_mixed_clean_path, wav_mixed_imgan_path]:\n",
    "#     print('{} (exists:{})'.format(wav_path, os.path.exists(wav_path)))\n",
    "#     x, sr = librosa.load(wav_path, sr=None)\n",
    "#     print('length:{}'.format(np.shape(x)))\n",
    "#     print('sampling_rate:{}'.format(sr))\n",
    "    \n",
    "x_clean = sp.load_wav(wav_clean_path)\n",
    "x_imgan = sp.load_wav(wav_imgan_path)\n",
    "x_noise = sp.load_wav(wav_noise_path)\n",
    "x_mixed_clean = sp.load_wav(wav_mixed_clean_path)\n",
    "x_mixed_imgan = sp.load_wav(wav_mixed_imgan_path)\n",
    "\n",
    "# adjust the length.\n",
    "min_len = min(len(x_clean), len(x_imgan), len(x_noise), len(x_mixed_clean), len(x_mixed_imgan))\n",
    "x_clean = x_clean[0:min_len]\n",
    "x_imgan = x_imgan[0:min_len]\n",
    "x_noise = x_noise[0:min_len]\n",
    "x_mixed_clean = x_mixed_clean[0:min_len]\n",
    "x_mixed_imgan = x_mixed_imgan[0:min_len]"
   ]
  },
  {
   "cell_type": "code",
   "execution_count": 6,
   "metadata": {},
   "outputs": [
    {
     "name": "stdout",
     "output_type": "stream",
     "text": [
      "original: siib 1335.762, pesq 1.173 (MOS: 1.206)\n",
      "clean + noise: siib 18.371, pesq 1.041 (MOS: 1.171)\n",
      "imgan + noise: siib 79.729, pesq 1.416 (MOS: 1.290)\n"
     ]
    }
   ],
   "source": [
    "x_clean_16 = load_wav(wav_clean_path)\n",
    "x_noise_16 = load_wav(wav_noise_path)\n",
    "x_imgan_16 = load_wav(wav_imgan_path)\n",
    "x_quiet_16 = np.ones((np.size(x_noise)))*0.00000001\n",
    "\n",
    "# clean\n",
    "siib_score = SIIB(x_clean, x_clean, sampling_frequency, gauss=True)\n",
    "pesq_score = pesq(16000, x_clean_16, x_quiet_16, 'wb')\n",
    "print('original: siib {:.3f}, pesq {:.3f} (MOS: {:.3f})'.format(siib_score, pesq_score, pesq2mos(pesq_score)))\n",
    "\n",
    "# clean + noise.\n",
    "siib_score = SIIB(x_clean, x_mixed_clean, sampling_frequency, gauss=True)\n",
    "pesq_score = pesq(16000, x_clean_16, x_noise_16, 'wb')\n",
    "print('clean + noise: siib {:.3f}, pesq {:.3f} (MOS: {:.3f})'.format(siib_score, pesq_score, pesq2mos(pesq_score)))\n",
    "\n",
    "# clean + imgan\n",
    "siib_score = SIIB(x_imgan, x_mixed_imgan, sampling_frequency, gauss=True)\n",
    "pesq_score = pesq(16000, x_imgan_16, x_noise_16, 'wb')\n",
    "print('imgan + noise: siib {:.3f}, pesq {:.3f} (MOS: {:.3f})'.format(siib_score, pesq_score, pesq2mos(pesq_score)))\n"
   ]
  },
  {
   "cell_type": "markdown",
   "metadata": {},
   "source": [
    "## figures"
   ]
  },
  {
   "cell_type": "code",
   "execution_count": 10,
   "metadata": {},
   "outputs": [
    {
     "name": "stdout",
     "output_type": "stream",
     "text": [
      "original: siib 1335.762, pesq 1.173 (MOS: 1.206)\n",
      "clean + noise: siib 91.054, pesq 1.041 (MOS: 1.171)\n",
      "imgan + noise: siib 236.623, pesq 1.326 (MOS: 1.256)\n",
      "original: siib 1335.762, pesq 1.172 (MOS: 1.206)\n",
      "clean + noise: siib 44.498, pesq 1.041 (MOS: 1.171)\n",
      "imgan + noise: siib 146.954, pesq 1.327 (MOS: 1.256)\n",
      "original: siib 1335.762, pesq 1.173 (MOS: 1.206)\n",
      "clean + noise: siib 26.786, pesq 1.041 (MOS: 1.171)\n",
      "imgan + noise: siib 104.054, pesq 1.294 (MOS: 1.245)\n",
      "original: siib 1335.762, pesq 1.173 (MOS: 1.206)\n",
      "clean + noise: siib 18.371, pesq 1.041 (MOS: 1.171)\n",
      "imgan + noise: siib 79.729, pesq 1.331 (MOS: 1.258)\n"
     ]
    }
   ],
   "source": [
    "scores = []\n",
    "for snr in [0, -5, -8, -10]:\n",
    "    wav_noise_path  = os.path.join(main_dir, \n",
    "                    'add_noise', \n",
    "                    'noise', \n",
    "                    speaker + '_noise' + str(noise_nr) + '_snr' + str(snr) + '.wav')\n",
    "    wav_mixed_clean_path  = os.path.join(main_dir, \n",
    "                    'add_noise', \n",
    "                    'mixed', \n",
    "                    speaker + '_clean_noise' + str(noise_nr) + '_snr' + str(snr) + '.wav')\n",
    "    wav_mixed_imgan_path  = os.path.join(main_dir, \n",
    "                    'add_noise', \n",
    "                    'mixed', \n",
    "                    speaker + '_imgan2_noise' + str(noise_nr) + '_snr' + str(snr) + '.wav')\n",
    "\n",
    "\n",
    "    # adjust the length.\n",
    "    x_clean = sp.load_wav(wav_clean_path)\n",
    "    x_imgan = sp.load_wav(wav_imgan_path)\n",
    "    x_noise = sp.load_wav(wav_noise_path)\n",
    "    x_mixed_clean = sp.load_wav(wav_mixed_clean_path)\n",
    "    x_mixed_imgan = sp.load_wav(wav_mixed_imgan_path)\n",
    "\n",
    "    min_len = min(len(x_clean), len(x_imgan), len(x_noise), len(x_mixed_clean), len(x_mixed_imgan))\n",
    "    x_clean = x_clean[0:min_len]\n",
    "    x_imgan = x_imgan[0:min_len]\n",
    "    x_noise = x_noise[0:min_len]\n",
    "    x_mixed_clean = x_mixed_clean[0:min_len]\n",
    "    x_mixed_imgan = x_mixed_imgan[0:min_len]\n",
    "\n",
    "    x_clean_16 = load_wav(wav_clean_path)\n",
    "    x_noise_16 = load_wav(wav_noise_path)\n",
    "    x_imgan_16 = load_wav(wav_imgan_path)\n",
    "    x_quiet_16 = np.ones((np.size(x_noise)))*0.00000001\n",
    "\n",
    "\n",
    "    # clean\n",
    "    siib_score = SIIB(x_clean, x_clean, sampling_frequency, gauss=True)\n",
    "    pesq_score = pesq(16000, x_clean_16, x_quiet_16, 'wb')\n",
    "    print('original: siib {:.3f}, pesq {:.3f} (MOS: {:.3f})'.format(siib_score, pesq_score, pesq2mos(pesq_score)))\n",
    "    scores.append([snr, 0, siib_score, pesq_score])\n",
    "    \n",
    "    # clean + noise.\n",
    "    siib_score = SIIB(x_clean, x_mixed_clean, sampling_frequency, gauss=True)\n",
    "    pesq_score = pesq(16000, x_clean_16, x_noise_16, 'wb')\n",
    "    print('clean + noise: siib {:.3f}, pesq {:.3f} (MOS: {:.3f})'.format(siib_score, pesq_score, pesq2mos(pesq_score)))\n",
    "    scores.append([snr, 1, siib_score, pesq_score])\n",
    "    \n",
    "    # clean + imgan\n",
    "    siib_score = SIIB(x_imgan, x_mixed_imgan, sampling_frequency, gauss=True)\n",
    "    pesq_score = pesq(16000, x_imgan_16, x_noise_16, 'wb')\n",
    "    print('imgan + noise: siib {:.3f}, pesq {:.3f} (MOS: {:.3f})'.format(siib_score, pesq_score, pesq2mos(pesq_score)))\n",
    "    scores.append([snr, 2, siib_score, pesq_score])\n",
    "df = pd.DataFrame(scores, columns = ['snr', 'type', 'siib', 'pesq'])"
   ]
  },
  {
   "cell_type": "code",
   "execution_count": 37,
   "metadata": {},
   "outputs": [
    {
     "data": {
      "text/plain": [
       "[[0, 0, 1335.7624872954837, 1.1727949380874634],\n",
       " [0, 1, 91.05435913816281, 1.0413072109222412],\n",
       " [0, 2, 236.62320038863686, 1.325716257095337],\n",
       " [-5, 0, 1335.7624872954837, 1.1724098920822144],\n",
       " [-5, 1, 44.49753838103982, 1.0410770177841187],\n",
       " [-5, 2, 146.95382764030828, 1.3271384239196777],\n",
       " [-8, 0, 1335.7624872954837, 1.172502040863037],\n",
       " [-8, 1, 26.78606410051843, 1.0413278341293335],\n",
       " [-8, 2, 104.0538856205617, 1.2942171096801758],\n",
       " [-10, 0, 1335.7624872954837, 1.173405647277832],\n",
       " [-10, 1, 18.370807059670994, 1.0413296222686768],\n",
       " [-10, 2, 79.72919518535178, 1.3308115005493164]]"
      ]
     },
     "execution_count": 37,
     "metadata": {},
     "output_type": "execute_result"
    }
   ],
   "source": [
    "scores_original = df[df['type']==0]\n",
    "scores_clean = df[df['type']==1]\n",
    "scores_imgan = df[df['type']==2]\n",
    "scores"
   ]
  },
  {
   "cell_type": "code",
   "execution_count": 40,
   "metadata": {},
   "outputs": [
    {
     "data": {
      "image/png": "[encoded data removed]",
      "text/plain": [
       "<Figure size 432x288 with 1 Axes>"
      ]
     },
     "metadata": {
      "needs_background": "light"
     },
     "output_type": "display_data"
    }
   ],
   "source": [
    "snrs = [0, -5, -8, -10]\n",
    "fig = plt.figure()\n",
    "ax = fig.add_axes([0.1, 0.1, 0.8, 0.8]) # main axes\n",
    "#ax.plot(snrs, np.array(scores_original['siib']), 'ko--', label='original')\n",
    "ax.plot(snrs, np.array(scores_clean['siib']), 'ko-', label='audio + noise')\n",
    "ax.plot(snrs, np.array(scores_imgan['siib']), 'bo-', label='audio(NELE) + noise')\n",
    "#plt.plot(snrs, np.array(scores_ssdrc)[:, 1], 'kx--', label='SSDRC')\n",
    "plt.xlabel('SNR', fontsize=20)\n",
    "#plt.ylabel('SIIB', fontsize=14)\n",
    "ax.tick_params(axis='both', which='major', labelsize=18)\n",
    "#plt.legend()\n",
    "plt.xlim([0, -10])\n",
    "ax.set_xticks([0, -5, -8, -10])\n",
    "fig.savefig(os.path.join(main_dir, 'siib.png'))"
   ]
  },
  {
   "cell_type": "code",
   "execution_count": 36,
   "metadata": {},
   "outputs": [
    {
     "data": {
      "text/plain": [
       "[<matplotlib.axis.XTick at 0x7fc851346a30>,\n",
       " <matplotlib.axis.XTick at 0x7fc851346a00>,\n",
       " <matplotlib.axis.XTick at 0x7fc8513460a0>,\n",
       " <matplotlib.axis.XTick at 0x7fc8512fc730>]"
      ]
     },
     "execution_count": 36,
     "metadata": {},
     "output_type": "execute_result"
    },
    {
     "data": {
      "image/png": "[encoded data removed]",
      "text/plain": [
       "<Figure size 432x288 with 1 Axes>"
      ]
     },
     "metadata": {
      "needs_background": "light"
     },
     "output_type": "display_data"
    }
   ],
   "source": [
    "fig = plt.figure()\n",
    "ax = fig.add_axes([0.1, 0.1, 0.8, 0.8]) # main axes\n",
    "#ax.plot(snrs, np.array(scores_original['siib']), 'ko--', label='original')\n",
    "ax.plot(snrs, np.array(scores_clean['pesq']), 'ko-', label='audio + noise')\n",
    "ax.plot(snrs, np.array(scores_imgan['pesq']), 'bo-', label='audio(NELE) + noise')\n",
    "#plt.plot(snrs, np.array(scores_ssdrc)[:, 1], 'kx--', label='SSDRC')\n",
    "plt.xlabel('SNR', fontsize=14)\n",
    "plt.ylabel('SIIB', fontsize=14)\n",
    "plt.legend()\n",
    "plt.xlim([0, -10])\n",
    "ax.set_xticks([0, -5, -8, -10])\n",
    "#fig.savefig(os.path.join(main_dir, 'siib.png'))"
   ]
  }
 ],
 "metadata": {
  "kernelspec": {
   "display_name": "Python 3",
   "language": "python",
   "name": "python3"
  },
  "language_info": {
   "codemirror_mode": {
    "name": "ipython",
    "version": 3
   },
   "file_extension": ".py",
   "mimetype": "text/x-python",
   "name": "python",
   "nbconvert_exporter": "python",
   "pygments_lexer": "ipython3",
   "version": "3.8.5"
  }
 },
 "nbformat": 4,
 "nbformat_minor": 4
}
