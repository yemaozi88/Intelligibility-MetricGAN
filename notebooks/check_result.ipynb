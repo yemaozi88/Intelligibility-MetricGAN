{
 "cells": [
  {
   "cell_type": "code",
   "execution_count": 1,
   "metadata": {},
   "outputs": [],
   "source": [
    "import os \n",
    "import sys\n",
    "import shutil\n",
    "import glob\n",
    "import importlib\n",
    "#from pathlib import Path\n",
    "import random\n",
    "\n",
    "import numpy as np\n",
    "import pandas as pd\n",
    "import librosa\n",
    "import matplotlib.pyplot as plt\n",
    "#from sklearn.model_selection import train_test_split\n",
    "from pysiib import SIIB\n",
    "\n",
    "import IPython\n",
    "\n",
    "repos_dir = r'/home/akikun/repos'\n",
    "sys.path.append(repos_dir)\n",
    "from sak import display as dp\n",
    "from sak import signal_processing as sp\n",
    "from sak import nele\n",
    "\n",
    "repos_imgan_dir = os.path.join(repos_dir, 'Intelligibility-MetricGAN')\n",
    "sys.path.append(repos_imgan_dir)\n",
    "import default_settings as default\n",
    "#import audio_util as au"
   ]
  },
  {
   "cell_type": "code",
   "execution_count": 2,
   "metadata": {},
   "outputs": [],
   "source": [
    "def SIIB_Wrapper(x, y, fs):\n",
    "    minL = min(len(x), len(y))\n",
    "    x = x[:minL]\n",
    "    y = y[:minL]\n",
    "    M = len(x)/fs\n",
    "    if(M<20):\n",
    "        x = np.hstack([x]*round(50/M))\n",
    "        y = np.hstack([y]*round(50/M))\n",
    "    #return mapping_func_jr(SIIB(x,y,fs,gauss=True))\n",
    "    return SIIB(x, y, fs, gauss=True)\n",
    "\n",
    "    \n",
    "def read_SIIB(clean_file, noise_file, enhanced_file, sampling_frequency=44100):\n",
    "    clean_wav    = sp.load_wav(clean_file)     \n",
    "    noise_wav    = sp.load_wav(noise_file)     \n",
    "    enhanced_wav = sp.load_wav(enhanced_file)\n",
    "    \n",
    "    minL = min(len(clean_wav),len(enhanced_wav))\n",
    "    clean_wav = clean_wav[:minL]\n",
    "    noise_wav = noise_wav[:minL]\n",
    "    enhanced_wav = enhanced_wav[:minL]\n",
    "    \n",
    "    siib_score = SIIB_Wrapper(clean_wav, enhanced_wav + noise_wav, sampling_frequency)  \n",
    "    return siib_score"
   ]
  },
  {
   "cell_type": "code",
   "execution_count": 3,
   "metadata": {},
   "outputs": [],
   "source": [
    "def siib_ssdrc():\n",
    "    n_epoch = 1\n",
    "    imgan_dir = os.path.join(default.output_path, 'epoch' + str(n_epoch), 'Test_epoch' + str(n_epoch))\n",
    "    wav_imgan_paths = glob.glob(os.path.join(imgan_dir, '*.wav'))\n",
    "\n",
    "    siib_scores = []\n",
    "    wav_imgan_paths.sort()\n",
    "    for i, wav_imgan_path in enumerate(wav_imgan_paths, start=1):\n",
    "        wav_basename = os.path.basename(wav_imgan_path)\n",
    "\n",
    "        wav_id = wav_basename.split('_snr')[0] + '.wav'\n",
    "        snr_str = wav_basename.split('_snr')[1].split('@')[0]\n",
    "        snr = int(snr_str)\n",
    "\n",
    "        wav_clean_path = os.path.join(per_snr_dir, 'test', 'clean', wav_id)\n",
    "        wav_noise_path = os.path.join(per_snr_dir, 'test', 'noise'+snr_str, wav_id)\n",
    "        wav_ssdrc_path = os.path.join(ssdrc_dir, wav_id)\n",
    "\n",
    "\n",
    "        # calculate SIIB.    \n",
    "        print('\\r' + '{}/{}'.format(i, len(wav_imgan_paths)), end=\"\")\n",
    "        siib_score = read_SIIB(wav_clean_path, wav_noise_path, wav_ssdrc_path)\n",
    "\n",
    "        siib_scores.append([snr, siib_score])\n",
    "    return pd.DataFrame(siib_scores, columns = ['snr', 'siib'])\n",
    "    \n",
    "    \n",
    "def siib_imgan(n_epoch):\n",
    "    imgan_dir = os.path.join(default.output_path, 'epoch' + str(n_epoch), 'Test_epoch' + str(n_epoch))\n",
    "    wav_imgan_paths = glob.glob(os.path.join(imgan_dir, '*.wav'))\n",
    "\n",
    "    siib_scores = []\n",
    "    wav_imgan_paths.sort()\n",
    "    for i, wav_imgan_path in enumerate(wav_imgan_paths, start=1):\n",
    "        wav_basename = os.path.basename(wav_imgan_path)\n",
    "\n",
    "        wav_id = wav_basename.split('_snr')[0] + '.wav'\n",
    "        snr_str = wav_basename.split('_snr')[1].split('@')[0]\n",
    "        snr = int(snr_str)\n",
    "\n",
    "        wav_clean_path = os.path.join(per_snr_dir, 'test', 'clean', wav_id)\n",
    "        wav_noise_path = os.path.join(per_snr_dir, 'test', 'noise'+snr_str, wav_id)\n",
    "        #wav_ssdrc_path = os.path.join(ssdrc_dir, wav_id)\n",
    "\n",
    "        print('\\r' + '{}/{}'.format(i, len(wav_imgan_paths)), end=\"\")\n",
    "        #print('{} (SNR:{})'.format(wav_id, snr))\n",
    "    #     print('clean: {} (exists: {})'.format(wav_clean_path, os.path.exists(wav_clean_path)))\n",
    "    #     print('noise: {} (exists: {})'.format(wav_noise_path, os.path.exists(wav_noise_path)))\n",
    "    #     print('imgan: {}'.format(wav_imgan_path))\n",
    "    #     print('ssdrc: {} (exists: {})'.format(wav_ssdrc_path, os.path.exists(wav_ssdrc_path)))\n",
    "\n",
    "    #     print('iMetricGAN')\n",
    "    #     dp.disp_wav_file(wav_imgan_path)\n",
    "    #     print('SSDRC')\n",
    "    #     dp.disp_wav_file(wav_ssdrc_path)\n",
    "\n",
    "        # calculate SIIB.    \n",
    "        siib_score = read_SIIB(wav_clean_path, wav_noise_path, wav_imgan_path)\n",
    "        #siib_ssdrc = read_SIIB(wav_clean_path, wav_noise_path, wav_ssdrc_path)\n",
    "        #print('iMetricGAN: {}'.format(siib_imgan))\n",
    "        #print('SSDRC: {}'.format(siib_ssdrc))\n",
    "\n",
    "        siib_scores.append([snr, siib_score])\n",
    "    return pd.DataFrame(siib_scores, columns = ['snr', 'siib'])"
   ]
  },
  {
   "cell_type": "code",
   "execution_count": 4,
   "metadata": {},
   "outputs": [],
   "source": [
    "def calc_mean_siib_score(siib_scores, snr):\n",
    "    siib_scores_ = siib_scores[siib_scores['snr']==snr]\n",
    "    if len(siib_scores_) > 0:\n",
    "        siib_mean_score = np.mean(siib_scores_['siib'])\n",
    "    else:\n",
    "        siib_mean_score = -1\n",
    "    return siib_mean_score\n",
    "\n",
    "snrs = [10, 5, 0, -5, -10]\n",
    "def calc_mean_siib_scores(siib_scores):\n",
    "    siib_mean_scores = []\n",
    "    for snr in snrs:\n",
    "        siib_mean_score = calc_mean_siib_score(siib_scores, snr)\n",
    "        siib_mean_scores.append([snr, siib_mean_score])\n",
    "    return siib_mean_scores "
   ]
  },
  {
   "cell_type": "code",
   "execution_count": 14,
   "metadata": {},
   "outputs": [],
   "source": [
    "# directory settings.\n",
    "nele_dir = r'/home/common/db/audio_corpora/nele'\n",
    "per_snr_dir = os.path.join(nele_dir, 'imgan', 'per_snr')\n",
    "ssdrc_dir   = os.path.join(nele_dir, 'hikari_tts', 'wavs_ssdrc')\n",
    "samples_dir = os.path.join(default.main_dir, 'samples')\n",
    "out_dir = os.path.join(samples_dir, 'ssdrc_vs_imgan')"
   ]
  },
  {
   "cell_type": "code",
   "execution_count": 6,
   "metadata": {},
   "outputs": [
    {
     "name": "stdout",
     "output_type": "stream",
     "text": [
      "20/20"
     ]
    }
   ],
   "source": [
    "# calculate the siib in test data.\n",
    "siib_scores_ssdrc = siib_ssdrc()\n",
    "siib_scores_imgan_a = siib_imgan(5)  # 1st snr\n",
    "siib_scores_imgan_b = siib_imgan(13) # 2nd snr"
   ]
  },
  {
   "cell_type": "code",
   "execution_count": 10,
   "metadata": {},
   "outputs": [
    {
     "data": {
      "text/plain": [
       "[<matplotlib.lines.Line2D at 0x7efeaadbca58>]"
      ]
     },
     "execution_count": 10,
     "metadata": {},
     "output_type": "execute_result"
    },
    {
     "data": {
      "image/png": "[encoded data removed]",
      "text/plain": [
       "<Figure size 432x288 with 1 Axes>"
      ]
     },
     "metadata": {
      "needs_background": "light"
     },
     "output_type": "display_data"
    }
   ],
   "source": [
    "scores_imgan_a = calc_mean_siib_scores(siib_scores_imgan_a)\n",
    "scores_imgan_b = calc_mean_siib_scores(siib_scores_imgan_b)\n",
    "scores_ssdrc = calc_mean_siib_scores(siib_scores_ssdrc)\n",
    "plt.plot(snrs, np.array(scores_imgan_a)[:, 1], 'ko-')\n",
    "plt.plot(snrs, np.array(scores_imgan_b)[:, 1], 'bo-')\n",
    "plt.plot(snrs, np.array(scores_ssdrc)[:, 1], 'ro-')"
   ]
  },
  {
   "cell_type": "code",
   "execution_count": 15,
   "metadata": {},
   "outputs": [],
   "source": [
    "## make listening test samples.\n",
    "n_epoch = 13\n",
    "imgan_dir = os.path.join(default.output_path, 'epoch' + str(n_epoch), 'Test_epoch' + str(n_epoch))\n",
    "wav_imgan_paths = glob.glob(os.path.join(imgan_dir, '*.wav'))\n",
    "wav_imgan_paths.sort()\n",
    "for i, wav_imgan_path in enumerate(wav_imgan_paths[0:2], start=1):\n",
    "    wav_basename = os.path.basename(wav_imgan_path)\n",
    "\n",
    "    wav_id = wav_basename.split('_snr')[0] + '.wav'\n",
    "    snr_str = wav_basename.split('_snr')[1].split('@')[0]\n",
    "    snr = int(snr_str)"
   ]
  }
 ],
 "metadata": {
  "kernelspec": {
   "display_name": "Python 3",
   "language": "python",
   "name": "python3"
  },
  "language_info": {
   "codemirror_mode": {
    "name": "ipython",
    "version": 3
   },
   "file_extension": ".py",
   "mimetype": "text/x-python",
   "name": "python",
   "nbconvert_exporter": "python",
   "pygments_lexer": "ipython3",
   "version": "3.7.0"
  }
 },
 "nbformat": 4,
 "nbformat_minor": 4
}
