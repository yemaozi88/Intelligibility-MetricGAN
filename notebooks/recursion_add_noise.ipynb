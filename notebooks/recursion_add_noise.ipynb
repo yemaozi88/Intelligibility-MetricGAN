{
 "cells": [
  {
   "cell_type": "code",
   "execution_count": 1,
   "id": "associate-freeware",
   "metadata": {},
   "outputs": [],
   "source": [
    "import os\n",
    "import sys\n",
    "import array\n",
    "import random\n",
    "import wave\n",
    "import numpy as np\n",
    "import glob\n",
    "\n",
    "repos_dir = r'/home/takkan/repos'\n",
    "sys.path.append(repos_dir)\n",
    "\n",
    "imgan_dir = os.path.join(repos_dir, 'Intelligibility-MetricGAN')\n",
    "sys.path.append(imgan_dir)\n",
    "\n",
    "from sak import display as dp\n",
    "from sak.nele import add_noise"
   ]
  },
  {
   "cell_type": "code",
   "execution_count": 2,
   "id": "activated-plymouth",
   "metadata": {},
   "outputs": [],
   "source": [
    "# Signal-to-Noise\n",
    "snr = [-10, -5, 0, 5, 10]\n",
    "\n",
    "# open iMetricGAN sample files.\n",
    "wav_dir = os.path.join(imgan_dir, 'test_wav')\n",
    "clean_dir = os.path.join(wav_dir, 'wavs_ssdrc')\n",
    "noise_dir = os.path.join(wav_dir, 'noise')\n",
    "file_name_list = os.listdir(clean_dir)\n"
   ]
  },
  {
   "cell_type": "code",
   "execution_count": 3,
   "id": "improving-reference",
   "metadata": {},
   "outputs": [
    {
     "name": "stderr",
     "output_type": "stream",
     "text": [
      "/home/takkan/miniconda3/envs/iMetricGAN/lib/python3.7/site-packages/ipykernel_launcher.py:8: DeprecationWarning: tostring() is deprecated. Use tobytes() instead.\n",
      "  \n"
     ]
    }
   ],
   "source": [
    "for rate in snr:\n",
    "    for file in file_name_list:\n",
    "        clean_file = os.path.join(clean_dir, file)\n",
    "        noise_file = os.path.join(noise_dir, file)\n",
    "        output_name = os.path.splitext(os.path.basename(clean_file))[0] + '_' + str(rate) + '.wav'\n",
    "        output_file = os.path.join(wav_dir, 'output', output_name)\n",
    "        #print(clean_file, noise_file, output_file)\n",
    "        add_noise(clean_file, noise_file, output_file, rate)"
   ]
  },
  {
   "cell_type": "code",
   "execution_count": null,
   "id": "specific-rogers",
   "metadata": {},
   "outputs": [],
   "source": []
  }
 ],
 "metadata": {
  "kernelspec": {
   "display_name": "iMetricGAN",
   "language": "python",
   "name": "imetricgan"
  },
  "language_info": {
   "codemirror_mode": {
    "name": "ipython",
    "version": 3
   },
   "file_extension": ".py",
   "mimetype": "text/x-python",
   "name": "python",
   "nbconvert_exporter": "python",
   "pygments_lexer": "ipython3",
   "version": "3.7.9"
  }
 },
 "nbformat": 4,
 "nbformat_minor": 5
}
